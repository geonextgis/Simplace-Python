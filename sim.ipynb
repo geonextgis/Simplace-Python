{
 "cells": [
  {
   "cell_type": "code",
   "execution_count": 1,
   "id": "d51b37da",
   "metadata": {},
   "outputs": [
    {
     "ename": "AttributeError",
     "evalue": "partially initialized module 'simplace' has no attribute 'initSimplace' (most likely due to a circular import)",
     "output_type": "error",
     "traceback": [
      "\u001b[31m---------------------------------------------------------------------------\u001b[39m",
      "\u001b[31mAttributeError\u001b[39m                            Traceback (most recent call last)",
      "\u001b[36mCell\u001b[39m\u001b[36m \u001b[39m\u001b[32mIn[1]\u001b[39m\u001b[32m, line 1\u001b[39m\n\u001b[32m----> \u001b[39m\u001b[32m1\u001b[39m \u001b[38;5;28;01mimport\u001b[39;00m\u001b[38;5;250m \u001b[39m\u001b[34;01msimplace\u001b[39;00m\n\u001b[32m      4\u001b[39m \u001b[38;5;66;03m# Define directories\u001b[39;00m\n\u001b[32m      5\u001b[39m install_dir = \u001b[33mr\u001b[39m\u001b[33m'\u001b[39m\u001b[33msimplace_portable/workspace/\u001b[39m\u001b[33m'\u001b[39m\n",
      "\u001b[36mFile \u001b[39m\u001b[32mc:\\HALDER\\GITHUB\\MSM-Research\\Simplace-Python\\simplace.py:10\u001b[39m\n\u001b[32m      7\u001b[39m output_dir = \u001b[33mr\u001b[39m\u001b[33m'\u001b[39m\u001b[33msimulation-optuna/output/\u001b[39m\u001b[33m'\u001b[39m\n\u001b[32m      9\u001b[39m \u001b[38;5;66;03m# Initialize Simplace\u001b[39;00m\n\u001b[32m---> \u001b[39m\u001b[32m10\u001b[39m sp = \u001b[43msimplace\u001b[49m\u001b[43m.\u001b[49m\u001b[43minitSimplace\u001b[49m(install_dir, work_dir, output_dir, javaParameters=[\u001b[33m\"\u001b[39m\u001b[33m-Xmx16384m\u001b[39m\u001b[33m\"\u001b[39m])\n\u001b[32m     12\u001b[39m \u001b[38;5;66;03m# Specify solution file\u001b[39;00m\n\u001b[32m     13\u001b[39m solution_file = \u001b[33mr\u001b[39m\u001b[33m'\u001b[39m\u001b[33msimulation-optuna/SimulationExperimentTemplateTest/solution/Soil3_Germany_AllKreis_Test.sol.xml\u001b[39m\u001b[33m'\u001b[39m\n",
      "\u001b[31mAttributeError\u001b[39m: partially initialized module 'simplace' has no attribute 'initSimplace' (most likely due to a circular import)"
     ]
    }
   ],
   "source": [
    "import simplace\n",
    "\n",
    "\n",
    "# Define directories\n",
    "install_dir = r'simplace_portable/workspace/'\n",
    "work_dir = r'simulation-optuna/'\n",
    "output_dir = r'simulation-optuna/output/'\n",
    "\n",
    "# Initialize Simplace\n",
    "sp = simplace.initSimplace(install_dir, work_dir, output_dir)\n",
    "\n",
    "# Specify solution file\n",
    "solution_file = r'simulation-optuna/SimulationExperimentTemplateTest/solution/Soil3_Germany_AllKreis_Test.sol.xml'\n",
    "project_file = r'simulation-optuna/SimulationExperimentTemplateTest/project/Soil3_Germany_AllKreis.proj.xml'\n",
    "simplace.openProject(sp, solution_file, project_file)\n",
    "simplace.runProject(sp)\n",
    "simplace.closeProject(sp)"
   ]
  }
 ],
 "metadata": {
  "kernelspec": {
   "display_name": "py312",
   "language": "python",
   "name": "python3"
  },
  "language_info": {
   "codemirror_mode": {
    "name": "ipython",
    "version": 3
   },
   "file_extension": ".py",
   "mimetype": "text/x-python",
   "name": "python",
   "nbconvert_exporter": "python",
   "pygments_lexer": "ipython3",
   "version": "3.12.0"
  }
 },
 "nbformat": 4,
 "nbformat_minor": 5
}
