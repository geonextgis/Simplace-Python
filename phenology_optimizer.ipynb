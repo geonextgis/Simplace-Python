{
 "cells": [
  {
   "cell_type": "markdown",
   "id": "e088504a",
   "metadata": {},
   "source": [
    "## **Import Dependencies**"
   ]
  },
  {
   "cell_type": "code",
   "execution_count": 122,
   "id": "0df5cd7e",
   "metadata": {},
   "outputs": [],
   "source": [
    "from lxml import etree"
   ]
  },
  {
   "cell_type": "code",
   "execution_count": 126,
   "id": "442e8099",
   "metadata": {},
   "outputs": [],
   "source": [
    "# Define the XML path\n",
    "xml_path = r'simulation\\SimulationExperimentTemplateTest\\data\\crop\\crop_cka_latest_USL.xml'\n",
    "\n",
    "# Load the XML file into memory\n",
    "tree = etree.parse(xml_path)\n",
    "\n",
    "# Retrieves the root element\n",
    "root = tree.getroot()"
   ]
  },
  {
   "cell_type": "code",
   "execution_count": 127,
   "id": "73d8002e",
   "metadata": {},
   "outputs": [],
   "source": [
    "# for child in root:\n",
    "#     print(child.tag, child.attrib)"
   ]
  },
  {
   "cell_type": "code",
   "execution_count": 128,
   "id": "37b4f15d",
   "metadata": {},
   "outputs": [],
   "source": [
    "# Function to update single-value parameters (e.g., TBASEM)\n",
    "def update_single_value_param(param_id, crop_name, new_value):\n",
    "    xpath = f\"//crop[parameter[@id='CropName' and text()='{crop_name}']]/parameter[@id='{param_id}']\"\n",
    "    for param in root.xpath(xpath):\n",
    "        if not param.getchildren():\n",
    "            param.text = str(new_value)"
   ]
  },
  {
   "cell_type": "code",
   "execution_count": 129,
   "id": "4047bfb2",
   "metadata": {},
   "outputs": [],
   "source": [
    "update_single_value_param('TEFFMX', 'winter wheat', 35)\n",
    "update_single_value_param('TSUM1', 'winter wheat', 2000)\n",
    "update_single_value_param('TSUM2', 'winter wheat', 500)\n",
    "\n",
    "tree.write('modified_crop.xml', pretty_print=True, xml_declaration=True, encoding='UTF-8')"
   ]
  }
 ],
 "metadata": {
  "kernelspec": {
   "display_name": "py312",
   "language": "python",
   "name": "python3"
  },
  "language_info": {
   "codemirror_mode": {
    "name": "ipython",
    "version": 3
   },
   "file_extension": ".py",
   "mimetype": "text/x-python",
   "name": "python",
   "nbconvert_exporter": "python",
   "pygments_lexer": "ipython3",
   "version": "3.12.0"
  }
 },
 "nbformat": 4,
 "nbformat_minor": 5
}
