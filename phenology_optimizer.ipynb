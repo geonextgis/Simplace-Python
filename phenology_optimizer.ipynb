{
 "cells": [
  {
   "cell_type": "markdown",
   "id": "e088504a",
   "metadata": {},
   "source": [
    "## **Import Dependencies**"
   ]
  },
  {
   "cell_type": "code",
   "execution_count": 1,
   "id": "0df5cd7e",
   "metadata": {},
   "outputs": [],
   "source": [
    "from lxml import etree\n",
    "import yaml\n",
    "import pandas as pd\n",
    "import optuna\n",
    "import os\n",
    "import simplace\n",
    "from tqdm import tqdm\n",
    "from glob import glob\n",
    "from sklearn.metrics import mean_squared_error, r2_score\n",
    "import numpy as np\n",
    "\n",
    "import warnings\n",
    "warnings.filterwarnings('ignore')"
   ]
  },
  {
   "cell_type": "code",
   "execution_count": 5,
   "id": "9e2926b5",
   "metadata": {},
   "outputs": [
    {
     "name": "stdout",
     "output_type": "stream",
     "text": [
      "JVM is running\n"
     ]
    }
   ],
   "source": [
    "import jpype\n",
    "\n",
    "if jpype.isJVMStarted():\n",
    "    print(\"JVM is running\")\n",
    "else:\n",
    "    print(\"JVM is not running\")"
   ]
  },
  {
   "cell_type": "code",
   "execution_count": 3,
   "id": "512d0580",
   "metadata": {},
   "outputs": [],
   "source": [
    "# Define directories\n",
    "install_dir = r'simplace_portable/workspace/'\n",
    "work_dir = r'simulation-optuna/'\n",
    "output_dir = r'simulation-optuna/output/'\n",
    "\n",
    "# Initialize Simplace\n",
    "sp = simplace.initSimplace(install_dir, work_dir, output_dir, javaParameters=[\"-Xms256m\"])\n",
    "\n",
    "# Specify solution file\n",
    "solution_file = r'simulation-optuna/SimulationExperimentTemplateTest/solution/Soil3_Germany_AllKreis_Test.sol.xml'\n",
    "project_file = r'simulation-optuna/SimulationExperimentTemplateTest/project/Soil3_Germany_AllKreis.proj.xml'\n",
    "simplace.openProject(sp, solution_file, project_file)\n",
    "simplace.runProject(sp)"
   ]
  },
  {
   "cell_type": "code",
   "execution_count": 4,
   "id": "d3a24c8e",
   "metadata": {},
   "outputs": [],
   "source": [
    "simplace.closeProject(sp)"
   ]
  },
  {
   "cell_type": "code",
   "execution_count": null,
   "id": "707c8c7d",
   "metadata": {},
   "outputs": [],
   "source": [
    "if jpype.isJVMStarted():\n",
    "    jpype.shutdownJVM()"
   ]
  },
  {
   "cell_type": "code",
   "execution_count": 3,
   "id": "37b4f15d",
   "metadata": {},
   "outputs": [],
   "source": [
    "# Function to update single-value parameters (e.g., TBASEM)\n",
    "def update_single_value_param(root, param_id, crop_name, new_value):\n",
    "    xpath = f\"//crop[parameter[@id='CropName' and text()='{crop_name}']]/parameter[@id='{param_id}']\"\n",
    "    for param in root.xpath(xpath):\n",
    "        if not param.getchildren():\n",
    "            param.text = str(new_value)"
   ]
  },
  {
   "cell_type": "code",
   "execution_count": 4,
   "id": "5507fd83",
   "metadata": {},
   "outputs": [],
   "source": [
    "# Function to update multi-value parameters (e.g., PHOTTB)\n",
    "def update_multi_value_param(root, param_id, crop_name, new_values):\n",
    "    xpath = f\"//crop[parameter[@id='CropName' and text()='{crop_name}']]/parameter[@id='{param_id}']\"\n",
    "    for param in root.xpath(xpath):\n",
    "        value_elements = param.findall('value')\n",
    "        for i, val in enumerate(new_values):\n",
    "            if i < len(value_elements):\n",
    "                value_elements[i].text = str(val)\n",
    "            else:\n",
    "                new_elem = etree.SubElement(param, 'value')\n",
    "                new_elem.text = str(val)\n",
    "        # # Remove any extra existing <value> tags\n",
    "        for extra in value_elements[len(new_values):]:\n",
    "            param.remove(extra)"
   ]
  },
  {
   "cell_type": "code",
   "execution_count": 5,
   "id": "442e8099",
   "metadata": {},
   "outputs": [],
   "source": [
    "# Define the XML path\n",
    "xml_path = r'simulation-optuna\\SimulationExperimentTemplateTest\\data\\crop\\crop_cka_latest_USL_test.xml'\n",
    "config_path = r'config.yaml'"
   ]
  },
  {
   "cell_type": "code",
   "execution_count": 6,
   "id": "32a15d6e",
   "metadata": {},
   "outputs": [],
   "source": [
    "def process_result(sim_dir, obs_dir):\n",
    "    # Define the state name\n",
    "    state = 'Brandenburg'\n",
    "\n",
    "    # Read the location csv\n",
    "    location_data = pd.read_csv(os.path.join('DE_DWD_UBN_Crop.csv'))\n",
    "    location_data = location_data[['Cell_ID', 'NUTS_ID', 'NUTS_NAME', 'STATE_ID', 'STATE_NAME']]\n",
    "    location_data.rename(columns={'Cell_ID': 'Location'}, inplace=True)\n",
    "    location_data = location_data[location_data['STATE_NAME']==state]\n",
    "\n",
    "    # Read the simulated data\n",
    "    sim_data = pd.DataFrame()\n",
    "\n",
    "    for path in tqdm(glob(os.path.join(sim_dir, '*.csv'))):\n",
    "        df = pd.read_csv(path, delimiter=';')\n",
    "        sim_data = pd.concat((sim_data, df), ignore_index=True)\n",
    "\n",
    "    # Filter columns\n",
    "    sim_variables = ['projectid', 'Year', 'AnthesisDOY', 'MaturityDOY', 'Yield_t_ha']\n",
    "    sim_data_filtered = sim_data[sim_variables]\n",
    "    sim_data_filtered.rename(columns={'projectid': 'Location'}, inplace=True)\n",
    "    sim_data_filtered = pd.merge(\n",
    "        left=sim_data_filtered, \n",
    "        right=location_data,\n",
    "        on='Location', \n",
    "        how='inner'\n",
    "    )\n",
    "\n",
    "    # Read the observed datasets\n",
    "    obs_phen_data = pd.read_csv(os.path.join(obs_dir))\n",
    "    obs_phen_data['AnthesisDOY'] = pd.to_datetime(obs_phen_data['Flowering_DOY']).dt.day_of_year\n",
    "    obs_phen_data['MaturityDOY'] = pd.to_datetime(obs_phen_data['Harvest_DOY']).dt.day_of_year\n",
    "    obs_phen_data = obs_phen_data[['STATE_ID', 'STATE_NAME', 'Year', 'AnthesisDOY', 'MaturityDOY']]\n",
    "    obs_phen_data = obs_phen_data[obs_phen_data['STATE_NAME']==state]\n",
    "\n",
    "    sim_data_grouped = sim_data_filtered[['Year', 'AnthesisDOY', 'MaturityDOY']].groupby(by='Year')\n",
    "    sim_data_grouped_mean = sim_data_grouped.mean().reset_index()\n",
    "    sim_data_grouped_std = sim_data_grouped.std().reset_index()\n",
    "    sim_data_grouped_mean[['AnthesisDOY', 'MaturityDOY']] = sim_data_grouped_mean[['AnthesisDOY', 'MaturityDOY']].astype('int')\n",
    "    sim_data_grouped_std = sim_data_grouped_std[['Year', 'AnthesisDOY', 'MaturityDOY']].rename(\n",
    "        columns={'AnthesisDOY': 'AnthesisDOY_std', 'MaturityDOY': 'MaturityDOY_std'}\n",
    "    )\n",
    "    sim_data_grouped_mean = pd.merge(left=sim_data_grouped_mean, right=sim_data_grouped_std, on='Year', how='inner')\n",
    "    sim_data_grouped_mean.rename(\n",
    "        columns={col: f'{col}_sim' for col in sim_data_grouped_mean.columns[1:]},\n",
    "        inplace=True\n",
    "    )\n",
    "\n",
    "    phen_comparison_df = pd.merge(\n",
    "    left=obs_phen_data[obs_phen_data['STATE_NAME']==state], \n",
    "    right=sim_data_grouped_mean, \n",
    "    on='Year', \n",
    "    how='inner'\n",
    "    )\n",
    "\n",
    "    return phen_comparison_df"
   ]
  },
  {
   "cell_type": "code",
   "execution_count": 7,
   "id": "897e0117",
   "metadata": {},
   "outputs": [],
   "source": [
    "# process_result(\n",
    "#     r'C:\\HALDER\\GITHUB\\MSM-Research\\Simplace-Python\\simulation-optuna\\output\\yearly',\n",
    "#     r'C:\\HALDER\\GITHUB\\MSM-Research\\Simplace-Python\\phenology_WW_1999_2021.csv'\n",
    "# )"
   ]
  },
  {
   "cell_type": "code",
   "execution_count": 7,
   "id": "05bf0a7e",
   "metadata": {},
   "outputs": [],
   "source": [
    "def objective(trial, xml_path, config_path, sim_dir, obs_dir):\n",
    "    # Load XML fresh every time\n",
    "    tree = etree.parse(xml_path)\n",
    "    root = tree.getroot()\n",
    "\n",
    "    # Load YAML config\n",
    "    with open(config_path, 'r') as f:\n",
    "        config = yaml.safe_load(f)\n",
    "\n",
    "    crop_name = config['crop_name']\n",
    "    single_value_specs = config.get('single_value_params', {})\n",
    "    multi_value_specs = config.get('multi_value_params', {})\n",
    "\n",
    "    # Suggest single value parameters\n",
    "    for param_id, spec in single_value_specs.items():\n",
    "        if spec['type'] == 'int':\n",
    "            val = trial.suggest_int(param_id, spec['low'], spec['high'])\n",
    "        elif spec['type'] == 'float':\n",
    "            precision = spec.get('precision', 5)\n",
    "            val = round(trial.suggest_float(param_id, spec['low'], spec['high']), precision)\n",
    "\n",
    "        print(param_id, val)\n",
    "        update_single_value_param(root, param_id, crop_name, val)\n",
    "\n",
    "    # Suggest multi-value parameters\n",
    "    for param_id, spec in multi_value_specs.items():\n",
    "        values = []\n",
    "        \n",
    "        if spec['type'] == 'int':\n",
    "            for i, bounds in enumerate(spec['values']):\n",
    "                val = trial.suggest_int(f\"{param_id}_{i}\", bounds['low'], bounds['high'])\n",
    "                values.append(val)\n",
    "\n",
    "            update_multi_value_param(root, param_id, crop_name, values)\n",
    "            print(param_id, values)\n",
    "            \n",
    "        elif spec['type'] == 'float':\n",
    "            precision = spec.get('precision', 3)\n",
    "            for i, bounds in enumerate(spec['values']):\n",
    "                val = round(trial.suggest_float(f\"{param_id}_{i}\", bounds['low'], bounds['high']), precision)\n",
    "                values.append(val)\n",
    "\n",
    "            update_multi_value_param(root, param_id, crop_name, values)\n",
    "            print(param_id, values)\n",
    "\n",
    "    # Save modified XML\n",
    "    tree.write(xml_path, pretty_print=True, xml_declaration=True, encoding='UTF-8')\n",
    "\n",
    "    # Define directories\n",
    "    install_dir = r'simplace_portable/workspace/'\n",
    "    work_dir = r'simulation-optuna/'\n",
    "    output_dir = r'simulation-optuna/output/'\n",
    "\n",
    "    # Initialize Simplace\n",
    "    sp = simplace.initSimplace(install_dir, work_dir, output_dir)\n",
    "\n",
    "    # Specify solution file\n",
    "    solution_file = r'simulation-optuna/SimulationExperimentTemplateTest/solution/Soil3_Germany_AllKreis_Test.sol.xml'\n",
    "    project_file = r'simulation-optuna/SimulationExperimentTemplateTest/project/Soil3_Germany_AllKreis.proj.xml'\n",
    "    simplace.openProject(sp, solution_file, project_file)\n",
    "\n",
    "    # Run your simulation model here and read the result\n",
    "    simplace.runProject(sp)\n",
    "    simplace.closeProject(sp)\n",
    "\n",
    "    result = process_result(sim_dir, obs_dir)\n",
    "\n",
    "    rmse = np.sqrt(mean_squared_error(result['AnthesisDOY'], result['AnthesisDOY_sim']))\n",
    "\n",
    "    return rmse"
   ]
  },
  {
   "cell_type": "code",
   "execution_count": null,
   "id": "48b0f8e8",
   "metadata": {},
   "outputs": [
    {
     "name": "stdout",
     "output_type": "stream",
     "text": [
      "JVM is running\n"
     ]
    }
   ],
   "source": []
  },
  {
   "cell_type": "code",
   "execution_count": null,
   "id": "ad58280f",
   "metadata": {},
   "outputs": [],
   "source": []
  },
  {
   "cell_type": "code",
   "execution_count": 8,
   "id": "330edf42",
   "metadata": {},
   "outputs": [],
   "source": [
    "sim_dir = r'simulation-optuna\\output\\yearly'\n",
    "obs_dir = r'phenology_WW_1999_2021.csv'"
   ]
  },
  {
   "cell_type": "code",
   "execution_count": 9,
   "id": "e6d5fe5a",
   "metadata": {},
   "outputs": [
    {
     "name": "stderr",
     "output_type": "stream",
     "text": [
      "[I 2025-05-22 11:37:31,902] A new study created in memory with name: no-name-1f294d12-c8e7-42ee-bf6b-b182ba8dbb6f\n"
     ]
    },
    {
     "name": "stdout",
     "output_type": "stream",
     "text": [
      "TEFFMX 30.76\n",
      "TSUM1 2209\n",
      "TSUM2 424\n",
      "RUETableRUE [3.11, 3.49, 3.07, 3.54]\n"
     ]
    },
    {
     "name": "stderr",
     "output_type": "stream",
     "text": [
      "100%|██████████| 3/3 [00:00<00:00, 402.58it/s]\n",
      "[I 2025-05-22 11:38:59,385] Trial 0 finished with value: 52.06851673307593 and parameters: {'TEFFMX': 30.760197401379003, 'TSUM1': 2209, 'TSUM2': 424, 'RUETableRUE_0': 3.1133122515133724, 'RUETableRUE_1': 3.491353665540375, 'RUETableRUE_2': 3.0660558273650462, 'RUETableRUE_3': 3.5394795334390006}. Best is trial 0 with value: 52.06851673307593.\n",
      "[W 2025-05-22 11:38:59,395] Trial 1 failed with parameters: {'TEFFMX': 38.4527594146807, 'TSUM1': 2310, 'TSUM2': 436, 'RUETableRUE_0': 3.2811137207652967, 'RUETableRUE_1': 3.6255016259379897, 'RUETableRUE_2': 3.1529898989697736, 'RUETableRUE_3': 3.940448014640243} because of the following error: OSError('JVM is already started').\n",
      "Traceback (most recent call last):\n",
      "  File \"c:\\Users\\halder\\AppData\\Local\\anaconda3\\envs\\py312\\Lib\\site-packages\\optuna\\study\\_optimize.py\", line 197, in _run_trial\n",
      "    value_or_values = func(trial)\n",
      "                      ^^^^^^^^^^^\n",
      "  File \"C:\\Users\\halder\\AppData\\Local\\Temp\\ipykernel_30460\\2305986272.py\", line 2, in <lambda>\n",
      "    study.optimize(lambda trial: objective(trial, xml_path, config_path, sim_dir, obs_dir), n_trials=5)\n",
      "                                 ^^^^^^^^^^^^^^^^^^^^^^^^^^^^^^^^^^^^^^^^^^^^^^^^^^^^^^^^^\n",
      "  File \"C:\\Users\\halder\\AppData\\Local\\Temp\\ipykernel_30460\\1701356741.py\", line 55, in objective\n",
      "    sp = simplace.initSimplace(install_dir, work_dir, output_dir)\n",
      "         ^^^^^^^^^^^^^^^^^^^^^^^^^^^^^^^^^^^^^^^^^^^^^^^^^^^^^^^^\n",
      "  File \"c:\\Users\\halder\\AppData\\Local\\anaconda3\\envs\\py312\\Lib\\site-packages\\simplace\\simplace.py\", line 96, in initSimplace\n",
      "    jpype.startJVM(*javaParameters, jvmpath=jpype.getDefaultJVMPath(), classpath=allcplist, ignoreUnrecognized=True, convertStrings=False)\n",
      "  File \"c:\\Users\\halder\\AppData\\Local\\anaconda3\\envs\\py312\\Lib\\site-packages\\jpype\\_core.py\", line 249, in startJVM\n",
      "    raise OSError('JVM is already started')\n",
      "OSError: JVM is already started\n",
      "[W 2025-05-22 11:38:59,399] Trial 1 failed with value None.\n"
     ]
    },
    {
     "name": "stdout",
     "output_type": "stream",
     "text": [
      "TEFFMX 38.45\n",
      "TSUM1 2310\n",
      "TSUM2 436\n",
      "RUETableRUE [3.28, 3.63, 3.15, 3.94]\n"
     ]
    },
    {
     "ename": "OSError",
     "evalue": "JVM is already started",
     "output_type": "error",
     "traceback": [
      "\u001b[31m---------------------------------------------------------------------------\u001b[39m",
      "\u001b[31mOSError\u001b[39m                                   Traceback (most recent call last)",
      "\u001b[36mCell\u001b[39m\u001b[36m \u001b[39m\u001b[32mIn[9]\u001b[39m\u001b[32m, line 2\u001b[39m\n\u001b[32m      1\u001b[39m study = optuna.create_study(direction=\u001b[33m'\u001b[39m\u001b[33mminimize\u001b[39m\u001b[33m'\u001b[39m)\n\u001b[32m----> \u001b[39m\u001b[32m2\u001b[39m \u001b[43mstudy\u001b[49m\u001b[43m.\u001b[49m\u001b[43moptimize\u001b[49m\u001b[43m(\u001b[49m\u001b[38;5;28;43;01mlambda\u001b[39;49;00m\u001b[43m \u001b[49m\u001b[43mtrial\u001b[49m\u001b[43m:\u001b[49m\u001b[43m \u001b[49m\u001b[43mobjective\u001b[49m\u001b[43m(\u001b[49m\u001b[43mtrial\u001b[49m\u001b[43m,\u001b[49m\u001b[43m \u001b[49m\u001b[43mxml_path\u001b[49m\u001b[43m,\u001b[49m\u001b[43m \u001b[49m\u001b[43mconfig_path\u001b[49m\u001b[43m,\u001b[49m\u001b[43m \u001b[49m\u001b[43msim_dir\u001b[49m\u001b[43m,\u001b[49m\u001b[43m \u001b[49m\u001b[43mobs_dir\u001b[49m\u001b[43m)\u001b[49m\u001b[43m,\u001b[49m\u001b[43m \u001b[49m\u001b[43mn_trials\u001b[49m\u001b[43m=\u001b[49m\u001b[32;43m5\u001b[39;49m\u001b[43m)\u001b[49m\n",
      "\u001b[36mFile \u001b[39m\u001b[32mc:\\Users\\halder\\AppData\\Local\\anaconda3\\envs\\py312\\Lib\\site-packages\\optuna\\study\\study.py:475\u001b[39m, in \u001b[36mStudy.optimize\u001b[39m\u001b[34m(self, func, n_trials, timeout, n_jobs, catch, callbacks, gc_after_trial, show_progress_bar)\u001b[39m\n\u001b[32m    373\u001b[39m \u001b[38;5;28;01mdef\u001b[39;00m\u001b[38;5;250m \u001b[39m\u001b[34moptimize\u001b[39m(\n\u001b[32m    374\u001b[39m     \u001b[38;5;28mself\u001b[39m,\n\u001b[32m    375\u001b[39m     func: ObjectiveFuncType,\n\u001b[32m   (...)\u001b[39m\u001b[32m    382\u001b[39m     show_progress_bar: \u001b[38;5;28mbool\u001b[39m = \u001b[38;5;28;01mFalse\u001b[39;00m,\n\u001b[32m    383\u001b[39m ) -> \u001b[38;5;28;01mNone\u001b[39;00m:\n\u001b[32m    384\u001b[39m \u001b[38;5;250m    \u001b[39m\u001b[33;03m\"\"\"Optimize an objective function.\u001b[39;00m\n\u001b[32m    385\u001b[39m \n\u001b[32m    386\u001b[39m \u001b[33;03m    Optimization is done by choosing a suitable set of hyperparameter values from a given\u001b[39;00m\n\u001b[32m   (...)\u001b[39m\u001b[32m    473\u001b[39m \u001b[33;03m            If nested invocation of this method occurs.\u001b[39;00m\n\u001b[32m    474\u001b[39m \u001b[33;03m    \"\"\"\u001b[39;00m\n\u001b[32m--> \u001b[39m\u001b[32m475\u001b[39m     \u001b[43m_optimize\u001b[49m\u001b[43m(\u001b[49m\n\u001b[32m    476\u001b[39m \u001b[43m        \u001b[49m\u001b[43mstudy\u001b[49m\u001b[43m=\u001b[49m\u001b[38;5;28;43mself\u001b[39;49m\u001b[43m,\u001b[49m\n\u001b[32m    477\u001b[39m \u001b[43m        \u001b[49m\u001b[43mfunc\u001b[49m\u001b[43m=\u001b[49m\u001b[43mfunc\u001b[49m\u001b[43m,\u001b[49m\n\u001b[32m    478\u001b[39m \u001b[43m        \u001b[49m\u001b[43mn_trials\u001b[49m\u001b[43m=\u001b[49m\u001b[43mn_trials\u001b[49m\u001b[43m,\u001b[49m\n\u001b[32m    479\u001b[39m \u001b[43m        \u001b[49m\u001b[43mtimeout\u001b[49m\u001b[43m=\u001b[49m\u001b[43mtimeout\u001b[49m\u001b[43m,\u001b[49m\n\u001b[32m    480\u001b[39m \u001b[43m        \u001b[49m\u001b[43mn_jobs\u001b[49m\u001b[43m=\u001b[49m\u001b[43mn_jobs\u001b[49m\u001b[43m,\u001b[49m\n\u001b[32m    481\u001b[39m \u001b[43m        \u001b[49m\u001b[43mcatch\u001b[49m\u001b[43m=\u001b[49m\u001b[38;5;28;43mtuple\u001b[39;49m\u001b[43m(\u001b[49m\u001b[43mcatch\u001b[49m\u001b[43m)\u001b[49m\u001b[43m \u001b[49m\u001b[38;5;28;43;01mif\u001b[39;49;00m\u001b[43m \u001b[49m\u001b[38;5;28;43misinstance\u001b[39;49m\u001b[43m(\u001b[49m\u001b[43mcatch\u001b[49m\u001b[43m,\u001b[49m\u001b[43m \u001b[49m\u001b[43mIterable\u001b[49m\u001b[43m)\u001b[49m\u001b[43m \u001b[49m\u001b[38;5;28;43;01melse\u001b[39;49;00m\u001b[43m \u001b[49m\u001b[43m(\u001b[49m\u001b[43mcatch\u001b[49m\u001b[43m,\u001b[49m\u001b[43m)\u001b[49m\u001b[43m,\u001b[49m\n\u001b[32m    482\u001b[39m \u001b[43m        \u001b[49m\u001b[43mcallbacks\u001b[49m\u001b[43m=\u001b[49m\u001b[43mcallbacks\u001b[49m\u001b[43m,\u001b[49m\n\u001b[32m    483\u001b[39m \u001b[43m        \u001b[49m\u001b[43mgc_after_trial\u001b[49m\u001b[43m=\u001b[49m\u001b[43mgc_after_trial\u001b[49m\u001b[43m,\u001b[49m\n\u001b[32m    484\u001b[39m \u001b[43m        \u001b[49m\u001b[43mshow_progress_bar\u001b[49m\u001b[43m=\u001b[49m\u001b[43mshow_progress_bar\u001b[49m\u001b[43m,\u001b[49m\n\u001b[32m    485\u001b[39m \u001b[43m    \u001b[49m\u001b[43m)\u001b[49m\n",
      "\u001b[36mFile \u001b[39m\u001b[32mc:\\Users\\halder\\AppData\\Local\\anaconda3\\envs\\py312\\Lib\\site-packages\\optuna\\study\\_optimize.py:63\u001b[39m, in \u001b[36m_optimize\u001b[39m\u001b[34m(study, func, n_trials, timeout, n_jobs, catch, callbacks, gc_after_trial, show_progress_bar)\u001b[39m\n\u001b[32m     61\u001b[39m \u001b[38;5;28;01mtry\u001b[39;00m:\n\u001b[32m     62\u001b[39m     \u001b[38;5;28;01mif\u001b[39;00m n_jobs == \u001b[32m1\u001b[39m:\n\u001b[32m---> \u001b[39m\u001b[32m63\u001b[39m         \u001b[43m_optimize_sequential\u001b[49m\u001b[43m(\u001b[49m\n\u001b[32m     64\u001b[39m \u001b[43m            \u001b[49m\u001b[43mstudy\u001b[49m\u001b[43m,\u001b[49m\n\u001b[32m     65\u001b[39m \u001b[43m            \u001b[49m\u001b[43mfunc\u001b[49m\u001b[43m,\u001b[49m\n\u001b[32m     66\u001b[39m \u001b[43m            \u001b[49m\u001b[43mn_trials\u001b[49m\u001b[43m,\u001b[49m\n\u001b[32m     67\u001b[39m \u001b[43m            \u001b[49m\u001b[43mtimeout\u001b[49m\u001b[43m,\u001b[49m\n\u001b[32m     68\u001b[39m \u001b[43m            \u001b[49m\u001b[43mcatch\u001b[49m\u001b[43m,\u001b[49m\n\u001b[32m     69\u001b[39m \u001b[43m            \u001b[49m\u001b[43mcallbacks\u001b[49m\u001b[43m,\u001b[49m\n\u001b[32m     70\u001b[39m \u001b[43m            \u001b[49m\u001b[43mgc_after_trial\u001b[49m\u001b[43m,\u001b[49m\n\u001b[32m     71\u001b[39m \u001b[43m            \u001b[49m\u001b[43mreseed_sampler_rng\u001b[49m\u001b[43m=\u001b[49m\u001b[38;5;28;43;01mFalse\u001b[39;49;00m\u001b[43m,\u001b[49m\n\u001b[32m     72\u001b[39m \u001b[43m            \u001b[49m\u001b[43mtime_start\u001b[49m\u001b[43m=\u001b[49m\u001b[38;5;28;43;01mNone\u001b[39;49;00m\u001b[43m,\u001b[49m\n\u001b[32m     73\u001b[39m \u001b[43m            \u001b[49m\u001b[43mprogress_bar\u001b[49m\u001b[43m=\u001b[49m\u001b[43mprogress_bar\u001b[49m\u001b[43m,\u001b[49m\n\u001b[32m     74\u001b[39m \u001b[43m        \u001b[49m\u001b[43m)\u001b[49m\n\u001b[32m     75\u001b[39m     \u001b[38;5;28;01melse\u001b[39;00m:\n\u001b[32m     76\u001b[39m         \u001b[38;5;28;01mif\u001b[39;00m n_jobs == -\u001b[32m1\u001b[39m:\n",
      "\u001b[36mFile \u001b[39m\u001b[32mc:\\Users\\halder\\AppData\\Local\\anaconda3\\envs\\py312\\Lib\\site-packages\\optuna\\study\\_optimize.py:160\u001b[39m, in \u001b[36m_optimize_sequential\u001b[39m\u001b[34m(study, func, n_trials, timeout, catch, callbacks, gc_after_trial, reseed_sampler_rng, time_start, progress_bar)\u001b[39m\n\u001b[32m    157\u001b[39m         \u001b[38;5;28;01mbreak\u001b[39;00m\n\u001b[32m    159\u001b[39m \u001b[38;5;28;01mtry\u001b[39;00m:\n\u001b[32m--> \u001b[39m\u001b[32m160\u001b[39m     frozen_trial = \u001b[43m_run_trial\u001b[49m\u001b[43m(\u001b[49m\u001b[43mstudy\u001b[49m\u001b[43m,\u001b[49m\u001b[43m \u001b[49m\u001b[43mfunc\u001b[49m\u001b[43m,\u001b[49m\u001b[43m \u001b[49m\u001b[43mcatch\u001b[49m\u001b[43m)\u001b[49m\n\u001b[32m    161\u001b[39m \u001b[38;5;28;01mfinally\u001b[39;00m:\n\u001b[32m    162\u001b[39m     \u001b[38;5;66;03m# The following line mitigates memory problems that can be occurred in some\u001b[39;00m\n\u001b[32m    163\u001b[39m     \u001b[38;5;66;03m# environments (e.g., services that use computing containers such as GitHub Actions).\u001b[39;00m\n\u001b[32m    164\u001b[39m     \u001b[38;5;66;03m# Please refer to the following PR for further details:\u001b[39;00m\n\u001b[32m    165\u001b[39m     \u001b[38;5;66;03m# https://github.com/optuna/optuna/pull/325.\u001b[39;00m\n\u001b[32m    166\u001b[39m     \u001b[38;5;28;01mif\u001b[39;00m gc_after_trial:\n",
      "\u001b[36mFile \u001b[39m\u001b[32mc:\\Users\\halder\\AppData\\Local\\anaconda3\\envs\\py312\\Lib\\site-packages\\optuna\\study\\_optimize.py:248\u001b[39m, in \u001b[36m_run_trial\u001b[39m\u001b[34m(study, func, catch)\u001b[39m\n\u001b[32m    241\u001b[39m         \u001b[38;5;28;01massert\u001b[39;00m \u001b[38;5;28;01mFalse\u001b[39;00m, \u001b[33m\"\u001b[39m\u001b[33mShould not reach.\u001b[39m\u001b[33m\"\u001b[39m\n\u001b[32m    243\u001b[39m \u001b[38;5;28;01mif\u001b[39;00m (\n\u001b[32m    244\u001b[39m     frozen_trial.state == TrialState.FAIL\n\u001b[32m    245\u001b[39m     \u001b[38;5;129;01mand\u001b[39;00m func_err \u001b[38;5;129;01mis\u001b[39;00m \u001b[38;5;129;01mnot\u001b[39;00m \u001b[38;5;28;01mNone\u001b[39;00m\n\u001b[32m    246\u001b[39m     \u001b[38;5;129;01mand\u001b[39;00m \u001b[38;5;129;01mnot\u001b[39;00m \u001b[38;5;28misinstance\u001b[39m(func_err, catch)\n\u001b[32m    247\u001b[39m ):\n\u001b[32m--> \u001b[39m\u001b[32m248\u001b[39m     \u001b[38;5;28;01mraise\u001b[39;00m func_err\n\u001b[32m    249\u001b[39m \u001b[38;5;28;01mreturn\u001b[39;00m frozen_trial\n",
      "\u001b[36mFile \u001b[39m\u001b[32mc:\\Users\\halder\\AppData\\Local\\anaconda3\\envs\\py312\\Lib\\site-packages\\optuna\\study\\_optimize.py:197\u001b[39m, in \u001b[36m_run_trial\u001b[39m\u001b[34m(study, func, catch)\u001b[39m\n\u001b[32m    195\u001b[39m \u001b[38;5;28;01mwith\u001b[39;00m get_heartbeat_thread(trial._trial_id, study._storage):\n\u001b[32m    196\u001b[39m     \u001b[38;5;28;01mtry\u001b[39;00m:\n\u001b[32m--> \u001b[39m\u001b[32m197\u001b[39m         value_or_values = \u001b[43mfunc\u001b[49m\u001b[43m(\u001b[49m\u001b[43mtrial\u001b[49m\u001b[43m)\u001b[49m\n\u001b[32m    198\u001b[39m     \u001b[38;5;28;01mexcept\u001b[39;00m exceptions.TrialPruned \u001b[38;5;28;01mas\u001b[39;00m e:\n\u001b[32m    199\u001b[39m         \u001b[38;5;66;03m# TODO(mamu): Handle multi-objective cases.\u001b[39;00m\n\u001b[32m    200\u001b[39m         state = TrialState.PRUNED\n",
      "\u001b[36mCell\u001b[39m\u001b[36m \u001b[39m\u001b[32mIn[9]\u001b[39m\u001b[32m, line 2\u001b[39m, in \u001b[36m<lambda>\u001b[39m\u001b[34m(trial)\u001b[39m\n\u001b[32m      1\u001b[39m study = optuna.create_study(direction=\u001b[33m'\u001b[39m\u001b[33mminimize\u001b[39m\u001b[33m'\u001b[39m)\n\u001b[32m----> \u001b[39m\u001b[32m2\u001b[39m study.optimize(\u001b[38;5;28;01mlambda\u001b[39;00m trial: \u001b[43mobjective\u001b[49m\u001b[43m(\u001b[49m\u001b[43mtrial\u001b[49m\u001b[43m,\u001b[49m\u001b[43m \u001b[49m\u001b[43mxml_path\u001b[49m\u001b[43m,\u001b[49m\u001b[43m \u001b[49m\u001b[43mconfig_path\u001b[49m\u001b[43m,\u001b[49m\u001b[43m \u001b[49m\u001b[43msim_dir\u001b[49m\u001b[43m,\u001b[49m\u001b[43m \u001b[49m\u001b[43mobs_dir\u001b[49m\u001b[43m)\u001b[49m, n_trials=\u001b[32m5\u001b[39m)\n",
      "\u001b[36mCell\u001b[39m\u001b[36m \u001b[39m\u001b[32mIn[7]\u001b[39m\u001b[32m, line 55\u001b[39m, in \u001b[36mobjective\u001b[39m\u001b[34m(trial, xml_path, config_path, sim_dir, obs_dir)\u001b[39m\n\u001b[32m     52\u001b[39m output_dir = \u001b[33mr\u001b[39m\u001b[33m'\u001b[39m\u001b[33msimulation-optuna/output/\u001b[39m\u001b[33m'\u001b[39m\n\u001b[32m     54\u001b[39m \u001b[38;5;66;03m# Initialize Simplace\u001b[39;00m\n\u001b[32m---> \u001b[39m\u001b[32m55\u001b[39m sp = \u001b[43msimplace\u001b[49m\u001b[43m.\u001b[49m\u001b[43minitSimplace\u001b[49m\u001b[43m(\u001b[49m\u001b[43minstall_dir\u001b[49m\u001b[43m,\u001b[49m\u001b[43m \u001b[49m\u001b[43mwork_dir\u001b[49m\u001b[43m,\u001b[49m\u001b[43m \u001b[49m\u001b[43moutput_dir\u001b[49m\u001b[43m)\u001b[49m\n\u001b[32m     57\u001b[39m \u001b[38;5;66;03m# Specify solution file\u001b[39;00m\n\u001b[32m     58\u001b[39m solution_file = \u001b[33mr\u001b[39m\u001b[33m'\u001b[39m\u001b[33msimulation-optuna/SimulationExperimentTemplateTest/solution/Soil3_Germany_AllKreis_Test.sol.xml\u001b[39m\u001b[33m'\u001b[39m\n",
      "\u001b[36mFile \u001b[39m\u001b[32mc:\\Users\\halder\\AppData\\Local\\anaconda3\\envs\\py312\\Lib\\site-packages\\simplace\\simplace.py:96\u001b[39m, in \u001b[36minitSimplace\u001b[39m\u001b[34m(installDir, workDir, outputDir, projectsDir, dataDir, additionalClasspathList, javaParameters)\u001b[39m\n\u001b[32m     93\u001b[39m \u001b[38;5;28;01mif\u001b[39;00m \u001b[38;5;28misinstance\u001b[39m(javaParameters,\u001b[38;5;28mstr\u001b[39m):\n\u001b[32m     94\u001b[39m     javaParameters=[javaParameters]\n\u001b[32m---> \u001b[39m\u001b[32m96\u001b[39m \u001b[43mjpype\u001b[49m\u001b[43m.\u001b[49m\u001b[43mstartJVM\u001b[49m\u001b[43m(\u001b[49m\u001b[43m*\u001b[49m\u001b[43mjavaParameters\u001b[49m\u001b[43m,\u001b[49m\u001b[43m \u001b[49m\u001b[43mjvmpath\u001b[49m\u001b[43m=\u001b[49m\u001b[43mjpype\u001b[49m\u001b[43m.\u001b[49m\u001b[43mgetDefaultJVMPath\u001b[49m\u001b[43m(\u001b[49m\u001b[43m)\u001b[49m\u001b[43m,\u001b[49m\u001b[43m \u001b[49m\u001b[43mclasspath\u001b[49m\u001b[43m=\u001b[49m\u001b[43mallcplist\u001b[49m\u001b[43m,\u001b[49m\u001b[43m \u001b[49m\u001b[43mignoreUnrecognized\u001b[49m\u001b[43m=\u001b[49m\u001b[38;5;28;43;01mTrue\u001b[39;49;00m\u001b[43m,\u001b[49m\u001b[43m \u001b[49m\u001b[43mconvertStrings\u001b[49m\u001b[43m=\u001b[49m\u001b[38;5;28;43;01mFalse\u001b[39;49;00m\u001b[43m)\u001b[49m\n\u001b[32m     97\u001b[39m Wrapper = jpype.JClass(\u001b[33m'\u001b[39m\u001b[33mnet.simplace.sim.wrapper.SimplaceWrapper\u001b[39m\u001b[33m'\u001b[39m)\n\u001b[32m     98\u001b[39m simplaceInstance = Wrapper(workDir, outputDir, projectsDir, dataDir)\n",
      "\u001b[36mFile \u001b[39m\u001b[32mc:\\Users\\halder\\AppData\\Local\\anaconda3\\envs\\py312\\Lib\\site-packages\\jpype\\_core.py:249\u001b[39m, in \u001b[36mstartJVM\u001b[39m\u001b[34m(jvmpath, classpath, ignoreUnrecognized, convertStrings, interrupt, *jvmargs)\u001b[39m\n\u001b[32m    245\u001b[39m \u001b[38;5;66;03m# Code for 1.6\u001b[39;00m\n\u001b[32m    246\u001b[39m \u001b[38;5;66;03m#    modulepath: typing.Union[typing.Sequence[_PathOrStr], _PathOrStr, None] = None,\u001b[39;00m\n\u001b[32m    248\u001b[39m     \u001b[38;5;28;01mif\u001b[39;00m _jpype.isStarted():\n\u001b[32m--> \u001b[39m\u001b[32m249\u001b[39m         \u001b[38;5;28;01mraise\u001b[39;00m \u001b[38;5;167;01mOSError\u001b[39;00m(\u001b[33m'\u001b[39m\u001b[33mJVM is already started\u001b[39m\u001b[33m'\u001b[39m)\n\u001b[32m    250\u001b[39m     \u001b[38;5;28;01mglobal\u001b[39;00m _JVM_started\n\u001b[32m    251\u001b[39m     \u001b[38;5;28;01mif\u001b[39;00m _JVM_started:\n",
      "\u001b[31mOSError\u001b[39m: JVM is already started"
     ]
    }
   ],
   "source": [
    "study = optuna.create_study(direction='minimize')\n",
    "study.optimize(lambda trial: objective(trial, xml_path, config_path, sim_dir, obs_dir), n_trials=5)"
   ]
  },
  {
   "cell_type": "code",
   "execution_count": null,
   "id": "72f1b0c4",
   "metadata": {},
   "outputs": [],
   "source": [
    "# Class\n",
    "import yaml\n",
    "from lxml import etree\n",
    "import optuna\n",
    "\n",
    "class SimplaceOptimizer:\n",
    "    def __init__(self, xml_path, config_path):\n",
    "        self.xml_path = xml_path\n",
    "        self.config_path = config_path\n",
    "        self.config = self._load_config()\n",
    "\n",
    "    def _load_config(self):\n",
    "        with open(self.config_path, 'r') as f:\n",
    "            return yaml.safe_load(f)\n",
    "\n",
    "    def _load_xml(self):\n",
    "        tree = etree.parse(self.xml_path)\n",
    "        return tree, tree.getroot()\n",
    "\n",
    "    def _suggest_single_params(self, trial, root):\n",
    "        crop_name = self.config['crop_name']\n",
    "        single_specs = self.config.get('single_value_params', {})\n",
    "\n",
    "        for param_id, spec in single_specs.items():\n",
    "            if spec['type'] == 'int':\n",
    "                val = trial.suggest_int(param_id, spec['low'], spec['high'])\n",
    "            elif spec['type'] == 'float':\n",
    "                precision = spec.get('precision', 5)\n",
    "                val = round(trial.suggest_float(param_id, spec['low'], spec['high']), precision)\n",
    "\n",
    "            update_single_value_param(root, param_id, crop_name, val)\n",
    "\n",
    "    def _suggest_multi_params(self, trial, root):\n",
    "        crop_name = self.config['crop_name']\n",
    "        multi_specs = self.config.get('multi_value_params', {})\n",
    "\n",
    "        for param_id, spec in multi_specs.items():\n",
    "            values = []\n",
    "            if spec['type'] == 'int':\n",
    "                for i, bounds in enumerate(spec['values']):\n",
    "                    val = trial.suggest_int(f\"{param_id}_{i}\", bounds['low'], bounds['high'])\n",
    "                    values.append(val)\n",
    "            elif spec['type'] == 'float':\n",
    "                precision = spec.get('precision', 3)\n",
    "                for i, bounds in enumerate(spec['values']):\n",
    "                    val = round(trial.suggest_float(f\"{param_id}_{i}\", bounds['low'], bounds['high']), precision)\n",
    "                    values.append(val)\n",
    "\n",
    "            update_multi_value_param(root, param_id, crop_name, values)\n",
    "\n",
    "    def objective(self, trial):\n",
    "        tree, root = self._load_xml()\n",
    "        self._suggest_single_params(trial, root)\n",
    "        self._suggest_multi_params(trial, root)\n",
    "\n",
    "        # Save updated XML\n",
    "        tree.write(self.xml_path, pretty_print=True, xml_declaration=True, encoding='UTF-8')\n",
    "\n",
    "        # Run model and calculate score\n",
    "        # simulated_yield = run_simulation(self.xml_path)\n",
    "        # score = evaluate(simulated_yield)\n",
    "        score = trial.suggest_float(\"dummy_score\", 0.7, 0.9)  # Replace with real score\n",
    "        return score"
   ]
  },
  {
   "cell_type": "code",
   "execution_count": 46,
   "id": "ce2d1fb0",
   "metadata": {},
   "outputs": [
    {
     "name": "stderr",
     "output_type": "stream",
     "text": [
      "[I 2025-05-22 02:11:20,052] A new study created in memory with name: no-name-d157e040-706c-4b7b-a223-eafdf5d4f700\n",
      "[I 2025-05-22 02:11:20,074] Trial 0 finished with value: 0.7668463420921908 and parameters: {'TEFFMX': 39.66944619132069, 'TSUM1': 1682, 'TSUM2': 674, 'RUETableRUE_0': 2.664652745162674, 'RUETableRUE_1': 3.05148158148924, 'RUETableRUE_2': 3.341120846449469, 'RUETableRUE_3': 3.6887364731616197, 'dummy_score': 0.7668463420921908}. Best is trial 0 with value: 0.7668463420921908.\n",
      "[I 2025-05-22 02:11:20,090] Trial 1 finished with value: 0.7973347957356189 and parameters: {'TEFFMX': 39.78551345243318, 'TSUM1': 2113, 'TSUM2': 459, 'RUETableRUE_0': 2.805025805893568, 'RUETableRUE_1': 3.324112052559183, 'RUETableRUE_2': 3.99324345378398, 'RUETableRUE_3': 3.5892865208038858, 'dummy_score': 0.7973347957356189}. Best is trial 0 with value: 0.7668463420921908.\n",
      "[I 2025-05-22 02:11:20,105] Trial 2 finished with value: 0.7501892594061048 and parameters: {'TEFFMX': 32.153729912735834, 'TSUM1': 2019, 'TSUM2': 487, 'RUETableRUE_0': 2.6570428906940506, 'RUETableRUE_1': 3.0574829974322273, 'RUETableRUE_2': 3.6897079903574626, 'RUETableRUE_3': 3.533502393960649, 'dummy_score': 0.7501892594061048}. Best is trial 2 with value: 0.7501892594061048.\n",
      "[I 2025-05-22 02:11:20,119] Trial 3 finished with value: 0.7912817772954754 and parameters: {'TEFFMX': 30.13091566906543, 'TSUM1': 1791, 'TSUM2': 681, 'RUETableRUE_0': 2.8368093611243106, 'RUETableRUE_1': 3.420061587943729, 'RUETableRUE_2': 3.5984915910941826, 'RUETableRUE_3': 3.780676818376166, 'dummy_score': 0.7912817772954754}. Best is trial 2 with value: 0.7501892594061048.\n",
      "[I 2025-05-22 02:11:20,133] Trial 4 finished with value: 0.7042183345049273 and parameters: {'TEFFMX': 31.080692822157403, 'TSUM1': 1669, 'TSUM2': 536, 'RUETableRUE_0': 3.436586985264251, 'RUETableRUE_1': 3.753512834190736, 'RUETableRUE_2': 3.2054673663428814, 'RUETableRUE_3': 3.4436274378265974, 'dummy_score': 0.7042183345049273}. Best is trial 4 with value: 0.7042183345049273.\n",
      "[I 2025-05-22 02:11:20,149] Trial 5 finished with value: 0.8974826888327507 and parameters: {'TEFFMX': 29.113886551693433, 'TSUM1': 1665, 'TSUM2': 448, 'RUETableRUE_0': 2.6302580229398216, 'RUETableRUE_1': 3.6215439355145183, 'RUETableRUE_2': 3.1881352154692033, 'RUETableRUE_3': 3.099807359332807, 'dummy_score': 0.8974826888327507}. Best is trial 4 with value: 0.7042183345049273.\n",
      "[I 2025-05-22 02:11:20,163] Trial 6 finished with value: 0.7482038214419848 and parameters: {'TEFFMX': 38.28471275208075, 'TSUM1': 2448, 'TSUM2': 413, 'RUETableRUE_0': 3.0566584741379756, 'RUETableRUE_1': 3.0518158330723035, 'RUETableRUE_2': 3.7619494929563086, 'RUETableRUE_3': 3.6569552462364405, 'dummy_score': 0.7482038214419848}. Best is trial 4 with value: 0.7042183345049273.\n",
      "[I 2025-05-22 02:11:20,179] Trial 7 finished with value: 0.791249793449669 and parameters: {'TEFFMX': 26.657494842281768, 'TSUM1': 2402, 'TSUM2': 586, 'RUETableRUE_0': 2.5370805291600425, 'RUETableRUE_1': 3.352927609957679, 'RUETableRUE_2': 3.5774244458098616, 'RUETableRUE_3': 3.6708613209156375, 'dummy_score': 0.791249793449669}. Best is trial 4 with value: 0.7042183345049273.\n",
      "[I 2025-05-22 02:11:20,193] Trial 8 finished with value: 0.804165490215242 and parameters: {'TEFFMX': 25.982020830495607, 'TSUM1': 1934, 'TSUM2': 603, 'RUETableRUE_0': 2.739428156729035, 'RUETableRUE_1': 3.8715241666350386, 'RUETableRUE_2': 3.4852467213180924, 'RUETableRUE_3': 3.2944582651433953, 'dummy_score': 0.804165490215242}. Best is trial 4 with value: 0.7042183345049273.\n",
      "[I 2025-05-22 02:11:20,208] Trial 9 finished with value: 0.8806883565494976 and parameters: {'TEFFMX': 25.44812596924486, 'TSUM1': 2199, 'TSUM2': 420, 'RUETableRUE_0': 2.8822772095033677, 'RUETableRUE_1': 3.4728546808626817, 'RUETableRUE_2': 3.4842570866058633, 'RUETableRUE_3': 3.8372447633975315, 'dummy_score': 0.8806883565494976}. Best is trial 4 with value: 0.7042183345049273.\n"
     ]
    }
   ],
   "source": [
    "optimizer = SimplaceOptimizer(xml_path, config_path)\n",
    "study = optuna.create_study(direction=\"minimize\")\n",
    "study.optimize(optimizer.objective, n_trials=10)"
   ]
  }
 ],
 "metadata": {
  "kernelspec": {
   "display_name": "py312",
   "language": "python",
   "name": "python3"
  },
  "language_info": {
   "codemirror_mode": {
    "name": "ipython",
    "version": 3
   },
   "file_extension": ".py",
   "mimetype": "text/x-python",
   "name": "python",
   "nbconvert_exporter": "python",
   "pygments_lexer": "ipython3",
   "version": "3.12.0"
  }
 },
 "nbformat": 4,
 "nbformat_minor": 5
}
