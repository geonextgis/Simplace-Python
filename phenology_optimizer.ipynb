{
 "cells": [
  {
   "cell_type": "markdown",
   "id": "e088504a",
   "metadata": {},
   "source": [
    "## **Import Dependencies**"
   ]
  },
  {
   "cell_type": "code",
   "execution_count": 13,
   "id": "0df5cd7e",
   "metadata": {},
   "outputs": [],
   "source": [
    "from lxml import etree\n",
    "import yaml\n",
    "import pandas as pd\n",
    "import optuna\n",
    "import os\n",
    "import simplace\n",
    "from tqdm import tqdm\n",
    "from glob import glob\n",
    "from sklearn.metrics import mean_squared_error, r2_score\n",
    "import numpy as np\n",
    "import subprocess\n",
    "\n",
    "import warnings\n",
    "warnings.filterwarnings('ignore')"
   ]
  },
  {
   "cell_type": "code",
   "execution_count": 14,
   "id": "9e2926b5",
   "metadata": {},
   "outputs": [
    {
     "name": "stdout",
     "output_type": "stream",
     "text": [
      "JVM is not running\n"
     ]
    }
   ],
   "source": [
    "import jpype\n",
    "\n",
    "if jpype.isJVMStarted():\n",
    "    print(\"JVM is running\")\n",
    "else:\n",
    "    print(\"JVM is not running\")"
   ]
  },
  {
   "cell_type": "code",
   "execution_count": 15,
   "id": "512d0580",
   "metadata": {},
   "outputs": [],
   "source": [
    "# Define directories\n",
    "install_dir = r'simplace_portable/workspace/'\n",
    "work_dir = r'simulation-optuna/'\n",
    "output_dir = r'simulation-optuna/output/'\n",
    "\n",
    "# Initialize Simplace\n",
    "# sp = simplace.initSimplace(install_dir, work_dir, output_dir, javaParameters=[\"-Xmx16384m\"])\n",
    "\n",
    "# Specify solution file\n",
    "# solution_file = r'simulation-optuna/SimulationExperimentTemplateTest/solution/Soil3_Germany_AllKreis_Test.sol.xml'\n",
    "# project_file = r'simulation-optuna/SimulationExperimentTemplateTest/project/Soil3_Germany_AllKreis.proj.xml'\n",
    "# simplace.openProject(sp, solution_file, project_file)\n",
    "# simplace.runProject(sp)"
   ]
  },
  {
   "cell_type": "code",
   "execution_count": 16,
   "id": "37b4f15d",
   "metadata": {},
   "outputs": [],
   "source": [
    "# Function to update single-value parameters (e.g., TBASEM)\n",
    "def update_single_value_param(root, param_id, crop_name, new_value):\n",
    "    xpath = f\"//crop[parameter[@id='CropName' and text()='{crop_name}']]/parameter[@id='{param_id}']\"\n",
    "    for param in root.xpath(xpath):\n",
    "        if not param.getchildren():\n",
    "            param.text = str(new_value)"
   ]
  },
  {
   "cell_type": "code",
   "execution_count": 17,
   "id": "5507fd83",
   "metadata": {},
   "outputs": [],
   "source": [
    "# Function to update multi-value parameters (e.g., PHOTTB)\n",
    "def update_multi_value_param(root, param_id, crop_name, new_values):\n",
    "    xpath = f\"//crop[parameter[@id='CropName' and text()='{crop_name}']]/parameter[@id='{param_id}']\"\n",
    "    for param in root.xpath(xpath):\n",
    "        value_elements = param.findall('value')\n",
    "        for i, val in enumerate(new_values):\n",
    "            if i < len(value_elements):\n",
    "                value_elements[i].text = str(val)\n",
    "            else:\n",
    "                new_elem = etree.SubElement(param, 'value')\n",
    "                new_elem.text = str(val)\n",
    "        # # Remove any extra existing <value> tags\n",
    "        for extra in value_elements[len(new_values):]:\n",
    "            param.remove(extra)"
   ]
  },
  {
   "cell_type": "code",
   "execution_count": 18,
   "id": "442e8099",
   "metadata": {},
   "outputs": [],
   "source": [
    "# Define the XML path\n",
    "xml_path = r'simulation-optuna\\SimulationExperimentTemplateTest\\data\\crop\\crop_cka_latest_USL_test.xml'\n",
    "config_path = r'config.yaml'"
   ]
  },
  {
   "cell_type": "code",
   "execution_count": 19,
   "id": "32a15d6e",
   "metadata": {},
   "outputs": [],
   "source": [
    "def process_result(sim_dir, obs_dir):\n",
    "    # Define the state name\n",
    "    state = 'Brandenburg'\n",
    "\n",
    "    # Read the location csv\n",
    "    location_data = pd.read_csv(os.path.join('DE_DWD_UBN_Crop.csv'))\n",
    "    location_data = location_data[['Cell_ID', 'NUTS_ID', 'NUTS_NAME', 'STATE_ID', 'STATE_NAME']]\n",
    "    location_data.rename(columns={'Cell_ID': 'Location'}, inplace=True)\n",
    "    location_data = location_data[location_data['STATE_NAME']==state]\n",
    "\n",
    "    # Read the simulated data\n",
    "    sim_data = pd.DataFrame()\n",
    "\n",
    "    for path in tqdm(glob(os.path.join(sim_dir, '*.csv'))):\n",
    "        df = pd.read_csv(path, delimiter=';')\n",
    "        sim_data = pd.concat((sim_data, df), ignore_index=True)\n",
    "\n",
    "    # Filter columns\n",
    "    sim_variables = ['projectid', 'Year', 'AnthesisDOY', 'MaturityDOY']\n",
    "    sim_data_filtered = sim_data[sim_variables]\n",
    "    sim_data_filtered.rename(columns={'projectid': 'Location'}, inplace=True)\n",
    "    sim_data_filtered = pd.merge(\n",
    "        left=sim_data_filtered, \n",
    "        right=location_data,\n",
    "        on='Location', \n",
    "        how='inner'\n",
    "    )\n",
    "\n",
    "    # Read the observed datasets\n",
    "    obs_phen_data = pd.read_csv(os.path.join(obs_dir))\n",
    "    obs_phen_data['AnthesisDOY'] = pd.to_datetime(obs_phen_data['Flowering_DOY']).dt.day_of_year\n",
    "    obs_phen_data['MaturityDOY'] = pd.to_datetime(obs_phen_data['Harvest_DOY']).dt.day_of_year\n",
    "    obs_phen_data = obs_phen_data[['STATE_ID', 'STATE_NAME', 'Year', 'AnthesisDOY', 'MaturityDOY']]\n",
    "    obs_phen_data = obs_phen_data[obs_phen_data['STATE_NAME']==state]\n",
    "\n",
    "    sim_data_grouped = sim_data_filtered[['Year', 'AnthesisDOY', 'MaturityDOY']].groupby(by='Year')\n",
    "    sim_data_grouped_mean = sim_data_grouped.mean().reset_index()\n",
    "    sim_data_grouped_std = sim_data_grouped.std().reset_index()\n",
    "    sim_data_grouped_mean[['AnthesisDOY', 'MaturityDOY']] = sim_data_grouped_mean[['AnthesisDOY', 'MaturityDOY']].astype('int')\n",
    "    sim_data_grouped_std = sim_data_grouped_std[['Year', 'AnthesisDOY', 'MaturityDOY']].rename(\n",
    "        columns={'AnthesisDOY': 'AnthesisDOY_std', 'MaturityDOY': 'MaturityDOY_std'}\n",
    "    )\n",
    "    sim_data_grouped_mean = pd.merge(left=sim_data_grouped_mean, right=sim_data_grouped_std, on='Year', how='inner')\n",
    "    sim_data_grouped_mean.rename(\n",
    "        columns={col: f'{col}_sim' for col in sim_data_grouped_mean.columns[1:]},\n",
    "        inplace=True\n",
    "    )\n",
    "\n",
    "    phen_comparison_df = pd.merge(\n",
    "    left=obs_phen_data[obs_phen_data['STATE_NAME']==state], \n",
    "    right=sim_data_grouped_mean, \n",
    "    on='Year', \n",
    "    how='inner'\n",
    "    )\n",
    "\n",
    "    return phen_comparison_df"
   ]
  },
  {
   "cell_type": "code",
   "execution_count": 8,
   "id": "897e0117",
   "metadata": {},
   "outputs": [],
   "source": [
    "# process_result(\n",
    "#     r'C:\\HALDER\\GITHUB\\MSM-Research\\Simplace-Python\\simulation-optuna\\output\\yearly',\n",
    "#     r'C:\\HALDER\\GITHUB\\MSM-Research\\Simplace-Python\\phenology_WW_1999_2021.csv'\n",
    "# )"
   ]
  },
  {
   "cell_type": "code",
   "execution_count": 20,
   "id": "05bf0a7e",
   "metadata": {},
   "outputs": [],
   "source": [
    "def objective(trial, xml_path, config_path, sim_dir, obs_dir):\n",
    "    # Load XML fresh every time\n",
    "    tree = etree.parse(xml_path)\n",
    "    root = tree.getroot()\n",
    "\n",
    "    # Load YAML config\n",
    "    with open(config_path, 'r') as f:\n",
    "        config = yaml.safe_load(f)\n",
    "\n",
    "    crop_name = config['crop_name']\n",
    "    single_value_specs = config.get('single_value_params', {})\n",
    "    multi_value_specs = config.get('multi_value_params', {})\n",
    "\n",
    "    # Suggest single value parameters\n",
    "    for param_id, spec in single_value_specs.items():\n",
    "        if spec['type'] == 'int':\n",
    "            val = trial.suggest_int(param_id, spec['low'], spec['high'])\n",
    "        elif spec['type'] == 'float':\n",
    "            precision = spec.get('precision', 5)\n",
    "            val = round(trial.suggest_float(param_id, spec['low'], spec['high']), precision)\n",
    "\n",
    "        print(param_id, val)\n",
    "        update_single_value_param(root, param_id, crop_name, val)\n",
    "\n",
    "    # Suggest multi-value parameters\n",
    "    for param_id, spec in multi_value_specs.items():\n",
    "        values = []\n",
    "        \n",
    "        if spec['type'] == 'int':\n",
    "            for i, bounds in enumerate(spec['values']):\n",
    "                val = trial.suggest_int(f\"{param_id}_{i}\", bounds['low'], bounds['high'])\n",
    "                values.append(val)\n",
    "\n",
    "            update_multi_value_param(root, param_id, crop_name, values)\n",
    "            print(param_id, values)\n",
    "            \n",
    "        elif spec['type'] == 'float':\n",
    "            precision = spec.get('precision', 3)\n",
    "            for i, bounds in enumerate(spec['values']):\n",
    "                val = round(trial.suggest_float(f\"{param_id}_{i}\", bounds['low'], bounds['high']), precision)\n",
    "                values.append(val)\n",
    "\n",
    "            update_multi_value_param(root, param_id, crop_name, values)\n",
    "            print(param_id, values)\n",
    "\n",
    "    # Save modified XML\n",
    "    tree.write(xml_path, pretty_print=True, xml_declaration=True, encoding='UTF-8')\n",
    "\n",
    "    # Define directories\n",
    "    # install_dir = r'simplace_portable/workspace/'\n",
    "    # work_dir = r'simulation-optuna/'\n",
    "    # output_dir = r'simulation-optuna/output/'\n",
    "\n",
    "    # # Initialize Simplace\n",
    "    # sp = simplace.initSimplace(install_dir, work_dir, output_dir)\n",
    "\n",
    "    # # Specify solution file\n",
    "    # solution_file = r'simulation-optuna/SimulationExperimentTemplateTest/solution/Soil3_Germany_AllKreis_Test.sol.xml'\n",
    "    # project_file = r'simulation-optuna/SimulationExperimentTemplateTest/project/Soil3_Germany_AllKreis.proj.xml'\n",
    "    # simplace.openProject(sp, solution_file, project_file)\n",
    "\n",
    "    # # Run your simulation model here and read the result\n",
    "    # simplace.runProject(sp)\n",
    "    # # simplace.closeProject(sp)\n",
    "    # sp.shutDown()\n",
    "    # import jpype\n",
    "    # jpype.java.lang.System.exit(0)\n",
    "\n",
    "    # Run the script\n",
    "    result = subprocess.run([\"python\", \"run_simplace.py\"], capture_output=True, text=True)\n",
    "\n",
    "    # Print output or error if needed\n",
    "    # print(\"STDOUT:\")\n",
    "    # print(result.stdout)\n",
    "\n",
    "    # print(\"STDERR:\")\n",
    "    # print(result.stderr)\n",
    "\n",
    "    result = process_result(sim_dir, obs_dir)\n",
    "\n",
    "    rmse = np.sqrt(mean_squared_error(result['AnthesisDOY'], result['AnthesisDOY_sim']))\n",
    "\n",
    "    return rmse"
   ]
  },
  {
   "cell_type": "code",
   "execution_count": 21,
   "id": "330edf42",
   "metadata": {},
   "outputs": [],
   "source": [
    "sim_dir = r'simulation-optuna\\output\\yearly'\n",
    "obs_dir = r'phenology_WW_1999_2021.csv'"
   ]
  },
  {
   "cell_type": "code",
   "execution_count": 22,
   "id": "e6d5fe5a",
   "metadata": {},
   "outputs": [
    {
     "name": "stderr",
     "output_type": "stream",
     "text": [
      "[I 2025-05-22 17:43:32,389] A new study created in memory with name: no-name-e50560d5-68df-4587-b359-1260f79c83c3\n"
     ]
    },
    {
     "name": "stdout",
     "output_type": "stream",
     "text": [
      "TSUM1 818\n",
      "TSUM2 1108\n"
     ]
    },
    {
     "name": "stderr",
     "output_type": "stream",
     "text": [
      "100%|██████████| 3/3 [00:00<00:00, 179.67it/s]\n",
      "[I 2025-05-22 17:44:59,944] Trial 0 finished with value: 62.77876960440909 and parameters: {'TSUM1': 818, 'TSUM2': 1108}. Best is trial 0 with value: 62.77876960440909.\n"
     ]
    },
    {
     "name": "stdout",
     "output_type": "stream",
     "text": [
      "TSUM1 942\n",
      "TSUM2 924\n"
     ]
    },
    {
     "name": "stderr",
     "output_type": "stream",
     "text": [
      "100%|██████████| 3/3 [00:00<?, ?it/s]\n",
      "[I 2025-05-22 17:46:25,831] Trial 1 finished with value: 44.857261541956376 and parameters: {'TSUM1': 942, 'TSUM2': 924}. Best is trial 1 with value: 44.857261541956376.\n"
     ]
    },
    {
     "name": "stdout",
     "output_type": "stream",
     "text": [
      "TSUM1 1439\n",
      "TSUM2 1483\n"
     ]
    },
    {
     "name": "stderr",
     "output_type": "stream",
     "text": [
      "100%|██████████| 3/3 [00:00<00:00, 179.62it/s]\n",
      "[I 2025-05-22 17:47:52,974] Trial 2 finished with value: 13.868951874130811 and parameters: {'TSUM1': 1439, 'TSUM2': 1483}. Best is trial 2 with value: 13.868951874130811.\n"
     ]
    },
    {
     "name": "stdout",
     "output_type": "stream",
     "text": [
      "TSUM1 1015\n",
      "TSUM2 832\n"
     ]
    },
    {
     "name": "stderr",
     "output_type": "stream",
     "text": [
      "100%|██████████| 3/3 [00:00<00:00, 177.87it/s]\n",
      "[I 2025-05-22 17:49:23,643] Trial 3 finished with value: 36.961201749707875 and parameters: {'TSUM1': 1015, 'TSUM2': 832}. Best is trial 2 with value: 13.868951874130811.\n"
     ]
    },
    {
     "name": "stdout",
     "output_type": "stream",
     "text": [
      "TSUM1 1068\n",
      "TSUM2 1182\n"
     ]
    },
    {
     "name": "stderr",
     "output_type": "stream",
     "text": [
      "100%|██████████| 3/3 [00:00<00:00, 108.03it/s]\n",
      "[I 2025-05-22 17:50:53,651] Trial 4 finished with value: 31.67360717228696 and parameters: {'TSUM1': 1068, 'TSUM2': 1182}. Best is trial 2 with value: 13.868951874130811.\n"
     ]
    },
    {
     "name": "stdout",
     "output_type": "stream",
     "text": [
      "TSUM1 889\n",
      "TSUM2 1317\n"
     ]
    },
    {
     "name": "stderr",
     "output_type": "stream",
     "text": [
      "100%|██████████| 3/3 [00:00<?, ?it/s]\n",
      "[I 2025-05-22 17:52:19,605] Trial 5 finished with value: 52.563832829609474 and parameters: {'TSUM1': 889, 'TSUM2': 1317}. Best is trial 2 with value: 13.868951874130811.\n"
     ]
    },
    {
     "name": "stdout",
     "output_type": "stream",
     "text": [
      "TSUM1 1278\n",
      "TSUM2 1185\n"
     ]
    },
    {
     "name": "stderr",
     "output_type": "stream",
     "text": [
      "100%|██████████| 3/3 [00:00<00:00, 913.99it/s]\n",
      "[I 2025-05-22 17:53:46,451] Trial 6 finished with value: 17.11724276862369 and parameters: {'TSUM1': 1278, 'TSUM2': 1185}. Best is trial 2 with value: 13.868951874130811.\n"
     ]
    },
    {
     "name": "stdout",
     "output_type": "stream",
     "text": [
      "TSUM1 1387\n",
      "TSUM2 1368\n"
     ]
    },
    {
     "name": "stderr",
     "output_type": "stream",
     "text": [
      "100%|██████████| 3/3 [00:00<00:00, 116.04it/s]\n",
      "[I 2025-05-22 17:55:14,519] Trial 7 finished with value: 13.75088929930494 and parameters: {'TSUM1': 1387, 'TSUM2': 1368}. Best is trial 7 with value: 13.75088929930494.\n"
     ]
    },
    {
     "name": "stdout",
     "output_type": "stream",
     "text": [
      "TSUM1 1102\n",
      "TSUM2 1273\n"
     ]
    },
    {
     "name": "stderr",
     "output_type": "stream",
     "text": [
      "100%|██████████| 3/3 [00:00<00:00, 274.60it/s]\n",
      "[I 2025-05-22 17:56:41,153] Trial 8 finished with value: 28.563430557574684 and parameters: {'TSUM1': 1102, 'TSUM2': 1273}. Best is trial 7 with value: 13.75088929930494.\n"
     ]
    },
    {
     "name": "stdout",
     "output_type": "stream",
     "text": [
      "TSUM1 895\n",
      "TSUM2 1328\n"
     ]
    },
    {
     "name": "stderr",
     "output_type": "stream",
     "text": [
      "100%|██████████| 3/3 [00:00<?, ?it/s]\n",
      "[I 2025-05-22 17:58:06,918] Trial 9 finished with value: 51.686765609103794 and parameters: {'TSUM1': 895, 'TSUM2': 1328}. Best is trial 7 with value: 13.75088929930494.\n"
     ]
    },
    {
     "name": "stdout",
     "output_type": "stream",
     "text": [
      "TSUM1 1651\n",
      "TSUM2 1680\n"
     ]
    },
    {
     "name": "stderr",
     "output_type": "stream",
     "text": [
      "100%|██████████| 3/3 [00:00<00:00, 320.43it/s]\n",
      "[I 2025-05-22 17:59:34,005] Trial 10 finished with value: 13.997023493109763 and parameters: {'TSUM1': 1651, 'TSUM2': 1680}. Best is trial 7 with value: 13.75088929930494.\n"
     ]
    },
    {
     "name": "stdout",
     "output_type": "stream",
     "text": [
      "TSUM1 1446\n",
      "TSUM2 1529\n"
     ]
    },
    {
     "name": "stderr",
     "output_type": "stream",
     "text": [
      "100%|██████████| 3/3 [00:00<00:00, 853.66it/s]\n",
      "[I 2025-05-22 18:01:01,881] Trial 11 finished with value: 13.89557327071248 and parameters: {'TSUM1': 1446, 'TSUM2': 1529}. Best is trial 7 with value: 13.75088929930494.\n"
     ]
    },
    {
     "name": "stdout",
     "output_type": "stream",
     "text": [
      "TSUM1 1441\n",
      "TSUM2 1495\n"
     ]
    },
    {
     "name": "stderr",
     "output_type": "stream",
     "text": [
      "100%|██████████| 3/3 [00:00<00:00, 278.88it/s]\n",
      "[I 2025-05-22 18:02:29,806] Trial 12 finished with value: 13.887748745473159 and parameters: {'TSUM1': 1441, 'TSUM2': 1495}. Best is trial 7 with value: 13.75088929930494.\n"
     ]
    },
    {
     "name": "stdout",
     "output_type": "stream",
     "text": [
      "TSUM1 1388\n",
      "TSUM2 1478\n"
     ]
    },
    {
     "name": "stderr",
     "output_type": "stream",
     "text": [
      "100%|██████████| 3/3 [00:00<?, ?it/s]\n",
      "[I 2025-05-22 18:03:56,261] Trial 13 finished with value: 13.75088929930494 and parameters: {'TSUM1': 1388, 'TSUM2': 1478}. Best is trial 7 with value: 13.75088929930494.\n"
     ]
    },
    {
     "name": "stdout",
     "output_type": "stream",
     "text": [
      "TSUM1 1269\n",
      "TSUM2 1675\n"
     ]
    },
    {
     "name": "stderr",
     "output_type": "stream",
     "text": [
      "100%|██████████| 3/3 [00:00<?, ?it/s]\n",
      "[I 2025-05-22 18:05:24,379] Trial 14 finished with value: 17.608051518009297 and parameters: {'TSUM1': 1269, 'TSUM2': 1675}. Best is trial 7 with value: 13.75088929930494.\n"
     ]
    },
    {
     "name": "stdout",
     "output_type": "stream",
     "text": [
      "TSUM1 1601\n",
      "TSUM2 1399\n"
     ]
    },
    {
     "name": "stderr",
     "output_type": "stream",
     "text": [
      "100%|██████████| 3/3 [00:00<00:00, 316.91it/s]\n",
      "[I 2025-05-22 18:06:51,543] Trial 15 finished with value: 19.391840507307954 and parameters: {'TSUM1': 1601, 'TSUM2': 1399}. Best is trial 7 with value: 13.75088929930494.\n"
     ]
    },
    {
     "name": "stdout",
     "output_type": "stream",
     "text": [
      "TSUM1 1366\n",
      "TSUM2 1552\n"
     ]
    },
    {
     "name": "stderr",
     "output_type": "stream",
     "text": [
      "100%|██████████| 3/3 [00:00<00:00, 333.19it/s]\n",
      "[I 2025-05-22 18:08:20,423] Trial 16 finished with value: 14.186644055773634 and parameters: {'TSUM1': 1366, 'TSUM2': 1552}. Best is trial 7 with value: 13.75088929930494.\n"
     ]
    },
    {
     "name": "stdout",
     "output_type": "stream",
     "text": [
      "TSUM1 1536\n",
      "TSUM2 1040\n"
     ]
    },
    {
     "name": "stderr",
     "output_type": "stream",
     "text": [
      "100%|██████████| 3/3 [00:00<00:00, 374.97it/s]\n",
      "[I 2025-05-22 18:09:47,649] Trial 17 finished with value: 16.399893955118444 and parameters: {'TSUM1': 1536, 'TSUM2': 1040}. Best is trial 7 with value: 13.75088929930494.\n"
     ]
    },
    {
     "name": "stdout",
     "output_type": "stream",
     "text": [
      "TSUM1 1188\n",
      "TSUM2 1364\n"
     ]
    },
    {
     "name": "stderr",
     "output_type": "stream",
     "text": [
      "100%|██████████| 3/3 [00:00<00:00, 437.97it/s]\n",
      "[I 2025-05-22 18:11:15,182] Trial 18 finished with value: 22.12022485930211 and parameters: {'TSUM1': 1188, 'TSUM2': 1364}. Best is trial 7 with value: 13.75088929930494.\n"
     ]
    },
    {
     "name": "stdout",
     "output_type": "stream",
     "text": [
      "TSUM1 1344\n",
      "TSUM2 1432\n"
     ]
    },
    {
     "name": "stderr",
     "output_type": "stream",
     "text": [
      "100%|██████████| 3/3 [00:00<00:00, 459.57it/s]\n",
      "[I 2025-05-22 18:12:47,512] Trial 19 finished with value: 14.832396974191326 and parameters: {'TSUM1': 1344, 'TSUM2': 1432}. Best is trial 7 with value: 13.75088929930494.\n"
     ]
    },
    {
     "name": "stdout",
     "output_type": "stream",
     "text": [
      "TSUM1 1195\n",
      "TSUM2 1208\n"
     ]
    },
    {
     "name": "stderr",
     "output_type": "stream",
     "text": [
      "100%|██████████| 3/3 [00:00<?, ?it/s]\n",
      "[I 2025-05-22 18:14:19,173] Trial 20 finished with value: 21.66142634510359 and parameters: {'TSUM1': 1195, 'TSUM2': 1208}. Best is trial 7 with value: 13.75088929930494.\n"
     ]
    },
    {
     "name": "stdout",
     "output_type": "stream",
     "text": [
      "TSUM1 1493\n",
      "TSUM2 1604\n"
     ]
    },
    {
     "name": "stderr",
     "output_type": "stream",
     "text": [
      "100%|██████████| 3/3 [00:00<00:00, 300.00it/s]\n",
      "[I 2025-05-22 18:15:49,764] Trial 21 finished with value: 12.82575533838066 and parameters: {'TSUM1': 1493, 'TSUM2': 1604}. Best is trial 21 with value: 12.82575533838066.\n"
     ]
    },
    {
     "name": "stdout",
     "output_type": "stream",
     "text": [
      "TSUM1 1542\n",
      "TSUM2 1599\n"
     ]
    },
    {
     "name": "stderr",
     "output_type": "stream",
     "text": [
      "100%|██████████| 3/3 [00:00<00:00, 187.33it/s]\n",
      "[I 2025-05-22 18:17:19,219] Trial 22 finished with value: 14.207392441964851 and parameters: {'TSUM1': 1542, 'TSUM2': 1599}. Best is trial 21 with value: 12.82575533838066.\n"
     ]
    },
    {
     "name": "stdout",
     "output_type": "stream",
     "text": [
      "TSUM1 1695\n",
      "TSUM2 1602\n"
     ]
    },
    {
     "name": "stderr",
     "output_type": "stream",
     "text": [
      "100%|██████████| 3/3 [00:00<00:00, 289.49it/s]\n",
      "[I 2025-05-22 18:18:49,497] Trial 23 finished with value: 16.945614363422948 and parameters: {'TSUM1': 1695, 'TSUM2': 1602}. Best is trial 21 with value: 12.82575533838066.\n"
     ]
    },
    {
     "name": "stdout",
     "output_type": "stream",
     "text": [
      "TSUM1 1357\n",
      "TSUM2 1418\n"
     ]
    },
    {
     "name": "stderr",
     "output_type": "stream",
     "text": [
      "100%|██████████| 3/3 [00:00<00:00, 174.27it/s]\n",
      "[I 2025-05-22 18:20:19,432] Trial 24 finished with value: 14.38144940388561 and parameters: {'TSUM1': 1357, 'TSUM2': 1418}. Best is trial 21 with value: 12.82575533838066.\n"
     ]
    },
    {
     "name": "stdout",
     "output_type": "stream",
     "text": [
      "TSUM1 1505\n",
      "TSUM2 1604\n"
     ]
    },
    {
     "name": "stderr",
     "output_type": "stream",
     "text": [
      "100%|██████████| 3/3 [00:00<?, ?it/s]\n",
      "[I 2025-05-22 18:21:45,524] Trial 25 finished with value: 13.078608488673403 and parameters: {'TSUM1': 1505, 'TSUM2': 1604}. Best is trial 21 with value: 12.82575533838066.\n"
     ]
    },
    {
     "name": "stdout",
     "output_type": "stream",
     "text": [
      "TSUM1 1529\n",
      "TSUM2 1614\n"
     ]
    },
    {
     "name": "stderr",
     "output_type": "stream",
     "text": [
      "100%|██████████| 3/3 [00:00<00:00, 380.80it/s]\n",
      "[I 2025-05-22 18:23:14,983] Trial 26 finished with value: 13.807606599262597 and parameters: {'TSUM1': 1529, 'TSUM2': 1614}. Best is trial 21 with value: 12.82575533838066.\n"
     ]
    },
    {
     "name": "stdout",
     "output_type": "stream",
     "text": [
      "TSUM1 1484\n",
      "TSUM2 1567\n"
     ]
    },
    {
     "name": "stderr",
     "output_type": "stream",
     "text": [
      "100%|██████████| 3/3 [00:00<00:00, 183.67it/s]\n",
      "[I 2025-05-22 18:24:45,728] Trial 27 finished with value: 14.714677676742864 and parameters: {'TSUM1': 1484, 'TSUM2': 1567}. Best is trial 21 with value: 12.82575533838066.\n"
     ]
    },
    {
     "name": "stdout",
     "output_type": "stream",
     "text": [
      "TSUM1 1617\n",
      "TSUM2 1691\n"
     ]
    },
    {
     "name": "stderr",
     "output_type": "stream",
     "text": [
      "100%|██████████| 3/3 [00:00<00:00, 172.70it/s]\n",
      "[I 2025-05-22 18:26:17,881] Trial 28 finished with value: 12.832251036613439 and parameters: {'TSUM1': 1617, 'TSUM2': 1691}. Best is trial 21 with value: 12.82575533838066.\n"
     ]
    },
    {
     "name": "stdout",
     "output_type": "stream",
     "text": [
      "TSUM1 1603\n",
      "TSUM2 1651\n"
     ]
    },
    {
     "name": "stderr",
     "output_type": "stream",
     "text": [
      "100%|██████████| 3/3 [00:00<00:00, 385.08it/s]\n",
      "[I 2025-05-22 18:27:47,150] Trial 29 finished with value: 15.742061491431166 and parameters: {'TSUM1': 1603, 'TSUM2': 1651}. Best is trial 21 with value: 12.82575533838066.\n"
     ]
    }
   ],
   "source": [
    "study = optuna.create_study(direction='minimize')\n",
    "study.optimize(lambda trial: objective(trial, xml_path, config_path, sim_dir, obs_dir), n_trials=30)"
   ]
  },
  {
   "cell_type": "code",
   "execution_count": 12,
   "id": "3f589d38",
   "metadata": {},
   "outputs": [
    {
     "data": {
      "text/plain": [
       "{'TSUM1': 1199, 'TSUM2': 1003}"
      ]
     },
     "execution_count": 12,
     "metadata": {},
     "output_type": "execute_result"
    }
   ],
   "source": [
    "study.best_params"
   ]
  },
  {
   "cell_type": "code",
   "execution_count": null,
   "id": "72f1b0c4",
   "metadata": {},
   "outputs": [],
   "source": [
    "# Class\n",
    "import yaml\n",
    "from lxml import etree\n",
    "import optuna\n",
    "\n",
    "class SimplaceOptimizer:\n",
    "    def __init__(self, xml_path, config_path):\n",
    "        self.xml_path = xml_path\n",
    "        self.config_path = config_path\n",
    "        self.config = self._load_config()\n",
    "\n",
    "    def _load_config(self):\n",
    "        with open(self.config_path, 'r') as f:\n",
    "            return yaml.safe_load(f)\n",
    "\n",
    "    def _load_xml(self):\n",
    "        tree = etree.parse(self.xml_path)\n",
    "        return tree, tree.getroot()\n",
    "\n",
    "    def _suggest_single_params(self, trial, root):\n",
    "        crop_name = self.config['crop_name']\n",
    "        single_specs = self.config.get('single_value_params', {})\n",
    "\n",
    "        for param_id, spec in single_specs.items():\n",
    "            if spec['type'] == 'int':\n",
    "                val = trial.suggest_int(param_id, spec['low'], spec['high'])\n",
    "            elif spec['type'] == 'float':\n",
    "                precision = spec.get('precision', 5)\n",
    "                val = round(trial.suggest_float(param_id, spec['low'], spec['high']), precision)\n",
    "\n",
    "            update_single_value_param(root, param_id, crop_name, val)\n",
    "\n",
    "    def _suggest_multi_params(self, trial, root):\n",
    "        crop_name = self.config['crop_name']\n",
    "        multi_specs = self.config.get('multi_value_params', {})\n",
    "\n",
    "        for param_id, spec in multi_specs.items():\n",
    "            values = []\n",
    "            if spec['type'] == 'int':\n",
    "                for i, bounds in enumerate(spec['values']):\n",
    "                    val = trial.suggest_int(f\"{param_id}_{i}\", bounds['low'], bounds['high'])\n",
    "                    values.append(val)\n",
    "            elif spec['type'] == 'float':\n",
    "                precision = spec.get('precision', 3)\n",
    "                for i, bounds in enumerate(spec['values']):\n",
    "                    val = round(trial.suggest_float(f\"{param_id}_{i}\", bounds['low'], bounds['high']), precision)\n",
    "                    values.append(val)\n",
    "\n",
    "            update_multi_value_param(root, param_id, crop_name, values)\n",
    "\n",
    "    def objective(self, trial):\n",
    "        tree, root = self._load_xml()\n",
    "        self._suggest_single_params(trial, root)\n",
    "        self._suggest_multi_params(trial, root)\n",
    "\n",
    "        # Save updated XML\n",
    "        tree.write(self.xml_path, pretty_print=True, xml_declaration=True, encoding='UTF-8')\n",
    "\n",
    "        # Run model and calculate score\n",
    "        # simulated_yield = run_simulation(self.xml_path)\n",
    "        # score = evaluate(simulated_yield)\n",
    "        score = trial.suggest_float(\"dummy_score\", 0.7, 0.9)  # Replace with real score\n",
    "        return score"
   ]
  },
  {
   "cell_type": "code",
   "execution_count": 46,
   "id": "ce2d1fb0",
   "metadata": {},
   "outputs": [
    {
     "name": "stderr",
     "output_type": "stream",
     "text": [
      "[I 2025-05-22 02:11:20,052] A new study created in memory with name: no-name-d157e040-706c-4b7b-a223-eafdf5d4f700\n",
      "[I 2025-05-22 02:11:20,074] Trial 0 finished with value: 0.7668463420921908 and parameters: {'TEFFMX': 39.66944619132069, 'TSUM1': 1682, 'TSUM2': 674, 'RUETableRUE_0': 2.664652745162674, 'RUETableRUE_1': 3.05148158148924, 'RUETableRUE_2': 3.341120846449469, 'RUETableRUE_3': 3.6887364731616197, 'dummy_score': 0.7668463420921908}. Best is trial 0 with value: 0.7668463420921908.\n",
      "[I 2025-05-22 02:11:20,090] Trial 1 finished with value: 0.7973347957356189 and parameters: {'TEFFMX': 39.78551345243318, 'TSUM1': 2113, 'TSUM2': 459, 'RUETableRUE_0': 2.805025805893568, 'RUETableRUE_1': 3.324112052559183, 'RUETableRUE_2': 3.99324345378398, 'RUETableRUE_3': 3.5892865208038858, 'dummy_score': 0.7973347957356189}. Best is trial 0 with value: 0.7668463420921908.\n",
      "[I 2025-05-22 02:11:20,105] Trial 2 finished with value: 0.7501892594061048 and parameters: {'TEFFMX': 32.153729912735834, 'TSUM1': 2019, 'TSUM2': 487, 'RUETableRUE_0': 2.6570428906940506, 'RUETableRUE_1': 3.0574829974322273, 'RUETableRUE_2': 3.6897079903574626, 'RUETableRUE_3': 3.533502393960649, 'dummy_score': 0.7501892594061048}. Best is trial 2 with value: 0.7501892594061048.\n",
      "[I 2025-05-22 02:11:20,119] Trial 3 finished with value: 0.7912817772954754 and parameters: {'TEFFMX': 30.13091566906543, 'TSUM1': 1791, 'TSUM2': 681, 'RUETableRUE_0': 2.8368093611243106, 'RUETableRUE_1': 3.420061587943729, 'RUETableRUE_2': 3.5984915910941826, 'RUETableRUE_3': 3.780676818376166, 'dummy_score': 0.7912817772954754}. Best is trial 2 with value: 0.7501892594061048.\n",
      "[I 2025-05-22 02:11:20,133] Trial 4 finished with value: 0.7042183345049273 and parameters: {'TEFFMX': 31.080692822157403, 'TSUM1': 1669, 'TSUM2': 536, 'RUETableRUE_0': 3.436586985264251, 'RUETableRUE_1': 3.753512834190736, 'RUETableRUE_2': 3.2054673663428814, 'RUETableRUE_3': 3.4436274378265974, 'dummy_score': 0.7042183345049273}. Best is trial 4 with value: 0.7042183345049273.\n",
      "[I 2025-05-22 02:11:20,149] Trial 5 finished with value: 0.8974826888327507 and parameters: {'TEFFMX': 29.113886551693433, 'TSUM1': 1665, 'TSUM2': 448, 'RUETableRUE_0': 2.6302580229398216, 'RUETableRUE_1': 3.6215439355145183, 'RUETableRUE_2': 3.1881352154692033, 'RUETableRUE_3': 3.099807359332807, 'dummy_score': 0.8974826888327507}. Best is trial 4 with value: 0.7042183345049273.\n",
      "[I 2025-05-22 02:11:20,163] Trial 6 finished with value: 0.7482038214419848 and parameters: {'TEFFMX': 38.28471275208075, 'TSUM1': 2448, 'TSUM2': 413, 'RUETableRUE_0': 3.0566584741379756, 'RUETableRUE_1': 3.0518158330723035, 'RUETableRUE_2': 3.7619494929563086, 'RUETableRUE_3': 3.6569552462364405, 'dummy_score': 0.7482038214419848}. Best is trial 4 with value: 0.7042183345049273.\n",
      "[I 2025-05-22 02:11:20,179] Trial 7 finished with value: 0.791249793449669 and parameters: {'TEFFMX': 26.657494842281768, 'TSUM1': 2402, 'TSUM2': 586, 'RUETableRUE_0': 2.5370805291600425, 'RUETableRUE_1': 3.352927609957679, 'RUETableRUE_2': 3.5774244458098616, 'RUETableRUE_3': 3.6708613209156375, 'dummy_score': 0.791249793449669}. Best is trial 4 with value: 0.7042183345049273.\n",
      "[I 2025-05-22 02:11:20,193] Trial 8 finished with value: 0.804165490215242 and parameters: {'TEFFMX': 25.982020830495607, 'TSUM1': 1934, 'TSUM2': 603, 'RUETableRUE_0': 2.739428156729035, 'RUETableRUE_1': 3.8715241666350386, 'RUETableRUE_2': 3.4852467213180924, 'RUETableRUE_3': 3.2944582651433953, 'dummy_score': 0.804165490215242}. Best is trial 4 with value: 0.7042183345049273.\n",
      "[I 2025-05-22 02:11:20,208] Trial 9 finished with value: 0.8806883565494976 and parameters: {'TEFFMX': 25.44812596924486, 'TSUM1': 2199, 'TSUM2': 420, 'RUETableRUE_0': 2.8822772095033677, 'RUETableRUE_1': 3.4728546808626817, 'RUETableRUE_2': 3.4842570866058633, 'RUETableRUE_3': 3.8372447633975315, 'dummy_score': 0.8806883565494976}. Best is trial 4 with value: 0.7042183345049273.\n"
     ]
    }
   ],
   "source": [
    "optimizer = SimplaceOptimizer(xml_path, config_path)\n",
    "study = optuna.create_study(direction=\"minimize\")\n",
    "study.optimize(optimizer.objective, n_trials=10)"
   ]
  }
 ],
 "metadata": {
  "kernelspec": {
   "display_name": "py312",
   "language": "python",
   "name": "python3"
  },
  "language_info": {
   "codemirror_mode": {
    "name": "ipython",
    "version": 3
   },
   "file_extension": ".py",
   "mimetype": "text/x-python",
   "name": "python",
   "nbconvert_exporter": "python",
   "pygments_lexer": "ipython3",
   "version": "3.12.0"
  }
 },
 "nbformat": 4,
 "nbformat_minor": 5
}
