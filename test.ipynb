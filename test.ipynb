{
 "cells": [
  {
   "cell_type": "code",
   "execution_count": 1,
   "id": "3a31f39d",
   "metadata": {},
   "outputs": [],
   "source": [
    "import optim\n",
    "import simplace\n",
    "import simplace_runner\n",
    "import numpy as np\n",
    "import pandas as pd\n",
    "from tqdm import tqdm\n",
    "from glob import glob\n",
    "import os\n",
    "from sklearn.metrics import mean_squared_error\n",
    "import optuna\n",
    "import yaml"
   ]
  },
  {
   "cell_type": "code",
   "execution_count": 2,
   "id": "bd9b6e16",
   "metadata": {},
   "outputs": [],
   "source": [
    "def process_result():\n",
    "    \n",
    "    sim_dir = r'simulation-optuna\\output\\yearly'\n",
    "    obs_dir = r'data\\phenology_WW_1999_2021.csv'\n",
    "\n",
    "    # Define the state name\n",
    "    state = 'Brandenburg'\n",
    "\n",
    "    # Read the location csv\n",
    "    location_data = pd.read_csv(os.path.join('data', 'DE_DWD_UBN_Crop.csv'))\n",
    "    location_data = location_data[['Cell_ID', 'NUTS_ID', 'NUTS_NAME', 'STATE_ID', 'STATE_NAME']]\n",
    "    location_data.rename(columns={'Cell_ID': 'Location'}, inplace=True)\n",
    "    location_data = location_data[location_data['STATE_NAME']==state]\n",
    "\n",
    "    # Read the simulated data\n",
    "    sim_data = pd.DataFrame()\n",
    "\n",
    "    for path in tqdm(glob(os.path.join(sim_dir, '*.csv'))):\n",
    "        df = pd.read_csv(path, delimiter=';')\n",
    "        sim_data = pd.concat((sim_data, df), ignore_index=True)\n",
    "\n",
    "    # Filter columns\n",
    "    sim_variables = ['projectid', 'Year', 'AnthesisDOY', 'MaturityDOY']\n",
    "    sim_data_filtered = sim_data[sim_variables]\n",
    "    sim_data_filtered.rename(columns={'projectid': 'Location'}, inplace=True)\n",
    "    sim_data_filtered = pd.merge(\n",
    "        left=sim_data_filtered, \n",
    "        right=location_data,\n",
    "        on='Location', \n",
    "        how='inner'\n",
    "    )\n",
    "\n",
    "    # Read the observed datasets\n",
    "    obs_phen_data = pd.read_csv(os.path.join(obs_dir))\n",
    "    obs_phen_data['AnthesisDOY'] = pd.to_datetime(obs_phen_data['Flowering_DOY']).dt.day_of_year\n",
    "    obs_phen_data['MaturityDOY'] = pd.to_datetime(obs_phen_data['Harvest_DOY']).dt.day_of_year\n",
    "    obs_phen_data = obs_phen_data[['STATE_ID', 'STATE_NAME', 'Year', 'AnthesisDOY', 'MaturityDOY']]\n",
    "    obs_phen_data = obs_phen_data[obs_phen_data['STATE_NAME']==state]\n",
    "\n",
    "    sim_data_grouped = sim_data_filtered[['Year', 'AnthesisDOY', 'MaturityDOY']].groupby(by='Year')\n",
    "    sim_data_grouped_mean = sim_data_grouped.mean().reset_index()\n",
    "    sim_data_grouped_std = sim_data_grouped.std().reset_index()\n",
    "    sim_data_grouped_mean[['AnthesisDOY', 'MaturityDOY']] = sim_data_grouped_mean[['AnthesisDOY', 'MaturityDOY']].astype('int')\n",
    "    sim_data_grouped_std = sim_data_grouped_std[['Year', 'AnthesisDOY', 'MaturityDOY']].rename(\n",
    "        columns={'AnthesisDOY': 'AnthesisDOY_std', 'MaturityDOY': 'MaturityDOY_std'}\n",
    "    )\n",
    "    sim_data_grouped_mean = pd.merge(left=sim_data_grouped_mean, right=sim_data_grouped_std, on='Year', how='inner')\n",
    "    sim_data_grouped_mean.rename(\n",
    "        columns={col: f'{col}_sim' for col in sim_data_grouped_mean.columns[1:]},\n",
    "        inplace=True\n",
    "    )\n",
    "\n",
    "    phen_comparison_df = pd.merge(\n",
    "    left=obs_phen_data[obs_phen_data['STATE_NAME']==state], \n",
    "    right=sim_data_grouped_mean, \n",
    "    on='Year', \n",
    "    how='inner'\n",
    "    )\n",
    "\n",
    "    return phen_comparison_df"
   ]
  },
  {
   "cell_type": "code",
   "execution_count": 3,
   "id": "241be469",
   "metadata": {},
   "outputs": [],
   "source": [
    "def loss_fn(df):\n",
    "    loss = mean_squared_error(df['AnthesisDOY'], df['AnthesisDOY_sim'])\n",
    "    return np.sqrt(loss)"
   ]
  },
  {
   "cell_type": "code",
   "execution_count": 4,
   "id": "1a6add16",
   "metadata": {},
   "outputs": [],
   "source": [
    "xml_path = r'simulation-optuna/SimulationExperimentTemplateTest/data/crop/crop_cka_latest_USL_test.xml'\n",
    "config_path = r'config.yaml'\n",
    "sim_dir = r'simulation-optuna/output/yearly'  \n",
    "obs_dir = r'phenology_WW_1999_2021.csv'"
   ]
  },
  {
   "cell_type": "code",
   "execution_count": 5,
   "id": "c4340e0d",
   "metadata": {},
   "outputs": [
    {
     "name": "stderr",
     "output_type": "stream",
     "text": [
      "[I 2025-05-23 18:36:42,765] A new study created in memory with name: Simplace Optimizer\n",
      "2025-05-23 18:36:42,780 - INFO - Trial 0: Suggested parameters - {'TEFFMX': 34.672872786831334, 'TSUM1': 1010, 'TSUM2': 1570, 'RUETableRUE_0': 2.984892407870185, 'RUETableRUE_1': 3.990758075928243, 'RUETableRUE_2': 3.6093703141180975, 'RUETableRUE_3': 3.6424502530251135}\n",
      "2025-05-23 18:36:42,781 - INFO - Starting Simplace subprocess...\n",
      "2025-05-23 18:38:09,418 - INFO - Simplace subprocess completed successfully.\n",
      "2025-05-23 18:38:09,419 - INFO - Trial 0: Processing output...\n",
      "100%|██████████| 3/3 [00:00<00:00, 325.63it/s]\n",
      "2025-05-23 18:38:09,661 - INFO - Trial 0 completed with loss: 37.2862\n",
      "2025-05-23 18:38:09,661 - INFO - Best is trial 0 with value: 37.2862.\n",
      "\n",
      "[I 2025-05-23 18:38:09,661] Trial 0 finished with value: 37.28620213383521 and parameters: {'TEFFMX': 34.672872786831334, 'TSUM1': 1010, 'TSUM2': 1570, 'RUETableRUE_0': 2.984892407870185, 'RUETableRUE_1': 3.990758075928243, 'RUETableRUE_2': 3.6093703141180975, 'RUETableRUE_3': 3.6424502530251135}. Best is trial 0 with value: 37.28620213383521.\n",
      "2025-05-23 18:38:09,670 - INFO - Trial 1: Suggested parameters - {'TEFFMX': 39.99301448784331, 'TSUM1': 1110, 'TSUM2': 804, 'RUETableRUE_0': 2.9779307416990752, 'RUETableRUE_1': 3.5838364858030802, 'RUETableRUE_2': 3.6534706847096183, 'RUETableRUE_3': 3.9622877260300546}\n",
      "2025-05-23 18:38:09,670 - INFO - Starting Simplace subprocess...\n",
      "2025-05-23 18:39:34,751 - INFO - Simplace subprocess completed successfully.\n",
      "2025-05-23 18:39:34,751 - INFO - Trial 1: Processing output...\n",
      "100%|██████████| 3/3 [00:00<?, ?it/s]\n",
      "2025-05-23 18:39:34,975 - INFO - Trial 1 completed with loss: 27.6783\n",
      "2025-05-23 18:39:34,975 - INFO - Best is trial 1 with value: 27.6783.\n",
      "\n",
      "[I 2025-05-23 18:39:34,975] Trial 1 finished with value: 27.678275895036148 and parameters: {'TEFFMX': 39.99301448784331, 'TSUM1': 1110, 'TSUM2': 804, 'RUETableRUE_0': 2.9779307416990752, 'RUETableRUE_1': 3.5838364858030802, 'RUETableRUE_2': 3.6534706847096183, 'RUETableRUE_3': 3.9622877260300546}. Best is trial 1 with value: 27.678275895036148.\n",
      "2025-05-23 18:39:34,975 - INFO - Trial 2: Suggested parameters - {'TEFFMX': 28.907677859615795, 'TSUM1': 1362, 'TSUM2': 1587, 'RUETableRUE_0': 3.445763667895668, 'RUETableRUE_1': 3.250497120705777, 'RUETableRUE_2': 3.8252486332920816, 'RUETableRUE_3': 3.8788919555320893}\n",
      "2025-05-23 18:39:34,975 - INFO - Starting Simplace subprocess...\n",
      "2025-05-23 18:40:58,409 - INFO - Simplace subprocess completed successfully.\n",
      "2025-05-23 18:40:58,409 - INFO - Trial 2: Processing output...\n",
      "100%|██████████| 3/3 [00:00<?, ?it/s]\n",
      "2025-05-23 18:40:58,646 - INFO - Trial 2 completed with loss: 14.2341\n",
      "2025-05-23 18:40:58,646 - INFO - Best is trial 2 with value: 14.2341.\n",
      "\n",
      "[I 2025-05-23 18:40:58,646] Trial 2 finished with value: 14.234068134309808 and parameters: {'TEFFMX': 28.907677859615795, 'TSUM1': 1362, 'TSUM2': 1587, 'RUETableRUE_0': 3.445763667895668, 'RUETableRUE_1': 3.250497120705777, 'RUETableRUE_2': 3.8252486332920816, 'RUETableRUE_3': 3.8788919555320893}. Best is trial 2 with value: 14.234068134309808.\n"
     ]
    }
   ],
   "source": [
    "optimizer = optim.SimplaceOptimizer(xml_path, config_path, process_result_fn=process_result, loss_fn=loss_fn, device='local', log_file='log.txt')\n",
    "study = optimizer.run_optimization(direction='minimize', n_trials=3, study_name='Simplace Optimizer', storage=None)"
   ]
  }
 ],
 "metadata": {
  "kernelspec": {
   "display_name": "py312",
   "language": "python",
   "name": "python3"
  },
  "language_info": {
   "codemirror_mode": {
    "name": "ipython",
    "version": 3
   },
   "file_extension": ".py",
   "mimetype": "text/x-python",
   "name": "python",
   "nbconvert_exporter": "python",
   "pygments_lexer": "ipython3",
   "version": "3.12.0"
  }
 },
 "nbformat": 4,
 "nbformat_minor": 5
}
