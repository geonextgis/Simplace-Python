{
 "cells": [
  {
   "cell_type": "code",
   "execution_count": 1,
   "id": "c35c420f",
   "metadata": {},
   "outputs": [],
   "source": [
    "import simplace\n",
    "import os\n",
    "\n",
    "install_dir = 'D:/GITHUB/MSM-Research/Simplace-Python/simplace_portable/workspace/'\n",
    "work_dir = 'D:/GITHUB/MSM-Research/Simplace-Python/simplace_portable/workspace/simplace_run/simulation/'\n",
    "simulation_dir = r'simplace_portable\\workspace\\simplace_run\\simulation\\SimulationExperimentTemplate'\n",
    "out_dir = r'out'\n",
    "solution_dir = r'simplace_portable\\workspace\\simplace_run\\simulation\\SimulationExperimentTemplate\\solution\\Lintul5.sol.xml'\n",
    "proj_dir = r'simplace_portable\\workspace\\simplace_run\\simulation\\SimulationExperimentTemplate\\project\\Lintul5All.proj.xml'"
   ]
  },
  {
   "cell_type": "code",
   "execution_count": 3,
   "id": "a3a9cfd9",
   "metadata": {},
   "outputs": [
    {
     "data": {
      "text/plain": [
       "True"
      ]
     },
     "execution_count": 3,
     "metadata": {},
     "output_type": "execute_result"
    }
   ],
   "source": [
    "os.path.exists(work_dir)"
   ]
  },
  {
   "cell_type": "code",
   "execution_count": 2,
   "id": "2fd86c62",
   "metadata": {},
   "outputs": [
    {
     "ename": "TypeError",
     "evalue": "Class net.simplace.sim.wrapper.SimplaceWrapper is not found",
     "output_type": "error",
     "traceback": [
      "\u001b[31m---------------------------------------------------------------------------\u001b[39m",
      "\u001b[31mTypeError\u001b[39m                                 Traceback (most recent call last)",
      "\u001b[36mCell\u001b[39m\u001b[36m \u001b[39m\u001b[32mIn[2]\u001b[39m\u001b[32m, line 1\u001b[39m\n\u001b[32m----> \u001b[39m\u001b[32m1\u001b[39m sp = \u001b[43msimplace\u001b[49m\u001b[43m.\u001b[49m\u001b[43minitSimplace\u001b[49m\u001b[43m(\u001b[49m\u001b[43minstall_dir\u001b[49m\u001b[43m,\u001b[49m\u001b[43m \u001b[49m\u001b[43mwork_dir\u001b[49m\u001b[43m)\u001b[49m\n",
      "\u001b[36mFile \u001b[39m\u001b[32mc:\\Users\\halde\\miniconda3\\envs\\py312\\Lib\\site-packages\\simplace\\simplace.py:97\u001b[39m, in \u001b[36minitSimplace\u001b[39m\u001b[34m(installDir, workDir, outputDir, projectsDir, dataDir, additionalClasspathList, javaParameters)\u001b[39m\n\u001b[32m     94\u001b[39m     javaParameters=[javaParameters]\n\u001b[32m     96\u001b[39m jpype.startJVM(*javaParameters, jvmpath=jpype.getDefaultJVMPath(), classpath=allcplist, ignoreUnrecognized=\u001b[38;5;28;01mTrue\u001b[39;00m, convertStrings=\u001b[38;5;28;01mFalse\u001b[39;00m)\n\u001b[32m---> \u001b[39m\u001b[32m97\u001b[39m Wrapper = \u001b[43mjpype\u001b[49m\u001b[43m.\u001b[49m\u001b[43mJClass\u001b[49m\u001b[43m(\u001b[49m\u001b[33;43m'\u001b[39;49m\u001b[33;43mnet.simplace.sim.wrapper.SimplaceWrapper\u001b[39;49m\u001b[33;43m'\u001b[39;49m\u001b[43m)\u001b[49m\n\u001b[32m     98\u001b[39m simplaceInstance = Wrapper(workDir, outputDir, projectsDir, dataDir)\n\u001b[32m     99\u001b[39m \u001b[38;5;28;01mreturn\u001b[39;00m simplaceInstance\n",
      "\u001b[36mFile \u001b[39m\u001b[32mc:\\Users\\halde\\miniconda3\\envs\\py312\\Lib\\site-packages\\jpype\\_jclass.py:99\u001b[39m, in \u001b[36mJClass.__new__\u001b[39m\u001b[34m(cls, jc, loader, initialize)\u001b[39m\n\u001b[32m     96\u001b[39m     \u001b[38;5;28;01mreturn\u001b[39;00m ret\n\u001b[32m     98\u001b[39m \u001b[38;5;66;03m# Pass to class factory to create the type\u001b[39;00m\n\u001b[32m---> \u001b[39m\u001b[32m99\u001b[39m \u001b[38;5;28;01mreturn\u001b[39;00m \u001b[43m_jpype\u001b[49m\u001b[43m.\u001b[49m\u001b[43m_getClass\u001b[49m\u001b[43m(\u001b[49m\u001b[43mjc\u001b[49m\u001b[43m)\u001b[49m\n",
      "\u001b[31mTypeError\u001b[39m: Class net.simplace.sim.wrapper.SimplaceWrapper is not found"
     ]
    }
   ],
   "source": [
    "sp = simplace.initSimplace(install_dir, work_dir)"
   ]
  }
 ],
 "metadata": {
  "kernelspec": {
   "display_name": "py312",
   "language": "python",
   "name": "python3"
  },
  "language_info": {
   "codemirror_mode": {
    "name": "ipython",
    "version": 3
   },
   "file_extension": ".py",
   "mimetype": "text/x-python",
   "name": "python",
   "nbconvert_exporter": "python",
   "pygments_lexer": "ipython3",
   "version": "3.12.3"
  }
 },
 "nbformat": 4,
 "nbformat_minor": 5
}
