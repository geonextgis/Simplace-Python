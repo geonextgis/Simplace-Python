{
 "cells": [
  {
   "cell_type": "code",
   "execution_count": 1,
   "id": "cc5cc47d",
   "metadata": {},
   "outputs": [],
   "source": [
    "import os\n",
    "import simplace\n",
    "import pandas as pd"
   ]
  },
  {
   "cell_type": "code",
   "execution_count": 2,
   "id": "014ee377",
   "metadata": {},
   "outputs": [],
   "source": [
    "# Define directories\n",
    "install_dir = r'simplace_portable/workspace/'\n",
    "work_dir = r'simulation2/'\n",
    "output_dir = r'simulation2/output/'"
   ]
  },
  {
   "cell_type": "code",
   "execution_count": 3,
   "id": "f2f568b3",
   "metadata": {},
   "outputs": [],
   "source": [
    "# Initialize Simplace\n",
    "sp = simplace.initSimplace(install_dir, work_dir, output_dir)"
   ]
  },
  {
   "cell_type": "code",
   "execution_count": 4,
   "id": "0bb0df5a",
   "metadata": {},
   "outputs": [],
   "source": [
    "# Specify solution file\n",
    "solution_file = r'simulation2/SimulationExperimentTemplateTest/solution/Soil3_Germany_AllKreis_Test.sol.xml'\n",
    "project_file = r'simulation2/SimulationExperimentTemplateTest/project/Soil3_Germany_AllKreis.proj.xml'\n",
    "simplace.openProject(sp, solution_file, project_file)"
   ]
  },
  {
   "cell_type": "code",
   "execution_count": 5,
   "id": "0d905db3",
   "metadata": {},
   "outputs": [],
   "source": [
    "# Run the project\n",
    "simplace.runProject(sp)"
   ]
  },
  {
   "cell_type": "code",
   "execution_count": 1,
   "id": "b162c0c1",
   "metadata": {},
   "outputs": [
    {
     "data": {
      "text/plain": [
       "'c:\\\\HALDER\\\\GITHUB\\\\MSM-Research\\\\Simplace-Python'"
      ]
     },
     "execution_count": 1,
     "metadata": {},
     "output_type": "execute_result"
    }
   ],
   "source": [
    "pwd"
   ]
  }
 ],
 "metadata": {
  "kernelspec": {
   "display_name": "py312",
   "language": "python",
   "name": "python3"
  },
  "language_info": {
   "codemirror_mode": {
    "name": "ipython",
    "version": 3
   },
   "file_extension": ".py",
   "mimetype": "text/x-python",
   "name": "python",
   "nbconvert_exporter": "python",
   "pygments_lexer": "ipython3",
   "version": "3.12.0"
  }
 },
 "nbformat": 4,
 "nbformat_minor": 5
}
